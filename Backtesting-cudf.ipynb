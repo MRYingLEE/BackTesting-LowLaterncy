{
 "cells": [
  {
   "cell_type": "code",
   "execution_count": 1,
   "metadata": {},
   "outputs": [],
   "source": [
    "import numpy as np \n",
    "\n",
    "import matplotlib.pyplot as plt \n",
    "import datetime as dt\n",
    "from datetime import timedelta as td\n",
    "\n",
    "%matplotlib inline\n",
    "plt.rcParams['figure.figsize'] = [24, 16]"
   ]
  },
  {
   "cell_type": "code",
   "execution_count": 2,
   "metadata": {},
   "outputs": [],
   "source": [
    "usinggpu=True\n",
    "\n",
    "if usinggpu:\n",
    "    import cudf as pd\n",
    "else:\n",
    "    import pandas as pd"
   ]
  },
  {
   "cell_type": "code",
   "execution_count": 3,
   "metadata": {},
   "outputs": [
    {
     "data": {
      "text/plain": [
       "395.203125"
      ]
     },
     "execution_count": 3,
     "metadata": {},
     "output_type": "execute_result"
    }
   ],
   "source": [
    "# To know the memory usage, just in case out of memory\n",
    "import os, psutil\n",
    "\n",
    "def memory_usage():\n",
    "     process = psutil.Process(os.getpid())\n",
    "     return process.memory_info()[0] / float(2 ** 20)\n",
    "\n",
    "memory_usage() # initial memory usage"
   ]
  },
  {
   "cell_type": "markdown",
   "metadata": {},
   "source": [
    "# The workflow: Indicator, Signal and strategy"
   ]
  },
  {
   "cell_type": "markdown",
   "metadata": {},
   "source": [
    "## The column name protocols between different stages and staff\n",
    "So that the data source can be interpreted by strategy"
   ]
  },
  {
   "cell_type": "code",
   "execution_count": 4,
   "metadata": {},
   "outputs": [],
   "source": [
    "def ma_col_name(nperiods):\n",
    "    return \"MA\"+str(nperiods)\n",
    "\n",
    "def pre_ma_col_name(nperiods):\n",
    "    return \"Pre_\"+ma_col_name(nperiods)\n",
    "\n",
    "def crossup_col_name(ma_short, ma_long):\n",
    "    return str(ma_short)+\"_CU_\"+str(ma_long)\n",
    "\n",
    "def crossdown_col_name(ma_short, ma_long):\n",
    "    return str(ma_short)+\"_CD_\"+str(ma_long)"
   ]
  },
  {
   "cell_type": "markdown",
   "metadata": {},
   "source": [
    "## The MA parameters we will use"
   ]
  },
  {
   "cell_type": "code",
   "execution_count": 5,
   "metadata": {},
   "outputs": [
    {
     "data": {
      "text/plain": [
       "[5, 6, 7, 8, 9, 10, 25, 26, 27, 28, 29, 30, 31, 32, 33, 34, 35]"
      ]
     },
     "execution_count": 5,
     "metadata": {},
     "output_type": "execute_result"
    }
   ],
   "source": [
    "ma_range_short=list(range(5,10+1))\n",
    "ma_range_long=list(range(25,35+1))\n",
    "ma_range=ma_range_short+ma_range_long\n",
    "ma_range"
   ]
  },
  {
   "cell_type": "markdown",
   "metadata": {},
   "source": [
    "## The Stoploss level we will use"
   ]
  },
  {
   "cell_type": "code",
   "execution_count": 6,
   "metadata": {},
   "outputs": [
    {
     "data": {
      "text/plain": [
       "[0.005, 0.01, 0.02, 0.03, 0.04, 0.05, 1]"
      ]
     },
     "execution_count": 6,
     "metadata": {},
     "output_type": "execute_result"
    }
   ],
   "source": [
    "stoploss_range=[x/100.0 for x in range(1,5+1)]\n",
    "stoploss_range=[0.005]+stoploss_range+[1]\n",
    "stoploss_range"
   ]
  },
  {
   "cell_type": "markdown",
   "metadata": {},
   "source": [
    "# Backtesting"
   ]
  },
  {
   "cell_type": "markdown",
   "metadata": {},
   "source": [
    "# To Load Market Data Indicators and Signals\n",
    "So that the step 1, 2 are independent to back testing"
   ]
  },
  {
   "cell_type": "code",
   "execution_count": 7,
   "metadata": {},
   "outputs": [],
   "source": [
    "# There are a big difference in read_csv between pandas and CuDF. So we similify the process to load as pandas at first\n",
    "if usinggpu:\n",
    "    import pandas\n",
    "    df_pandas=pandas.read_csv(\"signals.csv\" ,parse_dates=[\"datetime\"],index_col=\"datetime\")\n",
    "    df_pandas.sort_index(ascending=True,inplace=True)\n",
    "    \n",
    "    df=pd.from_pandas(df_pandas)\n",
    "else:\n",
    "    df=pd.read_csv(\"signals.csv\" ,parse_dates=[\"datetime\"],index_col=\"datetime\")\n",
    "    df.sort_index(ascending=True,inplace=True)\n",
    "# Test df.iloc[0]"
   ]
  },
  {
   "cell_type": "code",
   "execution_count": 10,
   "metadata": {},
   "outputs": [
    {
     "data": {
      "text/plain": [
       "sym         True\n",
       "close       True\n",
       "volume      True\n",
       "MA5         True\n",
       "MA6         True\n",
       "MA7         True\n",
       "MA8         True\n",
       "MA9         True\n",
       "MA10        True\n",
       "MA25        True\n",
       "MA26        True\n",
       "MA27        True\n",
       "MA28        True\n",
       "MA29        True\n",
       "MA30        True\n",
       "MA31        True\n",
       "MA32        True\n",
       "MA33        True\n",
       "MA34        True\n",
       "MA35        True\n",
       "Pre_MA5     True\n",
       "Pre_MA6     True\n",
       "Pre_MA7     True\n",
       "Pre_MA8     True\n",
       "Pre_MA9     True\n",
       "Pre_MA10    True\n",
       "Pre_MA25    True\n",
       "Pre_MA26    True\n",
       "Pre_MA27    True\n",
       "Pre_MA28    True\n",
       "            ... \n",
       "9_CD_32     True\n",
       "9_CU_32     True\n",
       "9_CD_33     True\n",
       "9_CU_33     True\n",
       "9_CD_34     True\n",
       "9_CU_34     True\n",
       "9_CD_35     True\n",
       "9_CU_35     True\n",
       "10_CD_25    True\n",
       "10_CU_25    True\n",
       "10_CD_26    True\n",
       "10_CU_26    True\n",
       "10_CD_27    True\n",
       "10_CU_27    True\n",
       "10_CD_28    True\n",
       "10_CU_28    True\n",
       "10_CD_29    True\n",
       "10_CU_29    True\n",
       "10_CD_30    True\n",
       "10_CU_30    True\n",
       "10_CD_31    True\n",
       "10_CU_31    True\n",
       "10_CD_32    True\n",
       "10_CU_32    True\n",
       "10_CD_33    True\n",
       "10_CU_33    True\n",
       "10_CD_34    True\n",
       "10_CU_34    True\n",
       "10_CD_35    True\n",
       "10_CU_35    True\n",
       "Length: 169, dtype: bool"
      ]
     },
     "execution_count": 10,
     "metadata": {},
     "output_type": "execute_result"
    }
   ],
   "source": [
    "df.dtypes==df_pandas.dtypes"
   ]
  },
  {
   "cell_type": "code",
   "execution_count": 12,
   "metadata": {},
   "outputs": [
    {
     "data": {
      "text/plain": [
       "sym          object\n",
       "close       float64\n",
       "volume      float64\n",
       "MA5         float64\n",
       "MA6         float64\n",
       "MA7         float64\n",
       "MA8         float64\n",
       "MA9         float64\n",
       "MA10        float64\n",
       "MA25        float64\n",
       "MA26        float64\n",
       "MA27        float64\n",
       "MA28        float64\n",
       "MA29        float64\n",
       "MA30        float64\n",
       "MA31        float64\n",
       "MA32        float64\n",
       "MA33        float64\n",
       "MA34        float64\n",
       "MA35        float64\n",
       "Pre_MA5     float64\n",
       "Pre_MA6     float64\n",
       "Pre_MA7     float64\n",
       "Pre_MA8     float64\n",
       "Pre_MA9     float64\n",
       "Pre_MA10    float64\n",
       "Pre_MA25    float64\n",
       "Pre_MA26    float64\n",
       "Pre_MA27    float64\n",
       "Pre_MA28    float64\n",
       "             ...   \n",
       "9_CD_32        bool\n",
       "9_CU_32        bool\n",
       "9_CD_33        bool\n",
       "9_CU_33        bool\n",
       "9_CD_34        bool\n",
       "9_CU_34        bool\n",
       "9_CD_35        bool\n",
       "9_CU_35        bool\n",
       "10_CD_25       bool\n",
       "10_CU_25       bool\n",
       "10_CD_26       bool\n",
       "10_CU_26       bool\n",
       "10_CD_27       bool\n",
       "10_CU_27       bool\n",
       "10_CD_28       bool\n",
       "10_CU_28       bool\n",
       "10_CD_29       bool\n",
       "10_CU_29       bool\n",
       "10_CD_30       bool\n",
       "10_CU_30       bool\n",
       "10_CD_31       bool\n",
       "10_CU_31       bool\n",
       "10_CD_32       bool\n",
       "10_CU_32       bool\n",
       "10_CD_33       bool\n",
       "10_CU_33       bool\n",
       "10_CD_34       bool\n",
       "10_CU_34       bool\n",
       "10_CD_35       bool\n",
       "10_CU_35       bool\n",
       "Length: 169, dtype: object"
      ]
     },
     "execution_count": 12,
     "metadata": {},
     "output_type": "execute_result"
    }
   ],
   "source": [
    "df.dtypes"
   ]
  },
  {
   "cell_type": "code",
   "execution_count": 13,
   "metadata": {},
   "outputs": [
    {
     "name": "stdout",
     "output_type": "stream",
     "text": [
      "14125\n"
     ]
    }
   ],
   "source": [
    "count=0\n",
    "for close_p, ma_5_p in zip(df[\"close\"],df[\"MA5\"]):\n",
    "    #print(close_p, ma_5_p)\n",
    "    count+=1\n",
    "print(count)\n",
    "        "
   ]
  },
  {
   "cell_type": "markdown",
   "metadata": {},
   "source": [
    "## Backtesting"
   ]
  },
  {
   "cell_type": "code",
   "execution_count": 59,
   "metadata": {},
   "outputs": [],
   "source": [
    "def strategy_test(df, ma_short=5, ma_long=25, stoploss_rate=0.05):\n",
    "    \"\"\"Backtest for a set of (MA short periods, MA long periods, stop loss rate)\"\"\"\n",
    "    ticker_holdings = []  #Holding of ticks\n",
    "    ticker_trades=[]\n",
    "    ticker_stoploss=[]\n",
    "    trades_pl=[]\n",
    "    #stoplosses_pl=[]\n",
    "    cash_flows=[]  #Cash flow (In when sell and out when buy)\n",
    "    \n",
    "    cum_cash_flows=[] # In order to avoid cumsum(), which is not supported by CUDF\n",
    "    \n",
    "    current_holding=0.0\n",
    "    previous_cost_Buys=0.0\n",
    "    previous_cost_Sells=0.0\n",
    "    initial_cash=0.0  # The first investment as cash \n",
    "    \n",
    "    cum_cash_flow=0.0\n",
    "    \n",
    "    crossdown=crossdown_col_name(ma_short,ma_long)\n",
    "    crossup=crossup_col_name(ma_short,ma_long)\n",
    "    \n",
    "    temp_count=0\n",
    "    #for index_df, row in df.iterrows():\n",
    "    for (closeprice,bool_crossdown, bool_crossup) in zip(df[\"close\"],df[crossdown], df[crossup]):\n",
    "        #closeprice=row[\"close\"]\n",
    "        #bool_crossdown=row[crossdown]\n",
    "        #bool_crossup=row[crossup]\n",
    "                \n",
    "        net_cash_flow=0.0\n",
    "        trades=0 #non-cover\n",
    "        stoploss_trades=0 #cover\n",
    "        trade_pl=0.0\n",
    "        #stoploss_pl=0\n",
    "        \n",
    "        if stoploss_rate<1: # When stoploss>=1, which means no stoploss!\n",
    "            # stop loss first\n",
    "            if current_holding>0 and closeprice<((1-stoploss_rate)*previous_cost_Buys): # stop loss for long\n",
    "                stoploss_trades=-current_holding\n",
    "                current_holding=0.0\n",
    "                net_cash_flow=(1-stoploss_rate)*previous_cost_Buys*abs(stoploss_trades)\n",
    "                #stoploss_pl=-stoploss_rate # The loss\n",
    "                trade_pl=-stoploss_rate # The loss\n",
    "            elif current_holding<0 and closeprice>(1+stoploss_rate)*previous_cost_Sells: # stop loss for short\n",
    "                stoploss_trades=-current_holding\n",
    "                current_holding=0.0\n",
    "                #stoploss_pl=-stoploss_rate\n",
    "                trade_pl=-stoploss_rate # The loss\n",
    "                net_cash_flow=-(1+stoploss_rate)*previous_cost_Sells*abs(stoploss_trades)\n",
    "        \n",
    "        \n",
    "        # Then we deal with buy and sell signal\n",
    "        if bool_crossup:\n",
    "            if (current_holding<0): # cover short\n",
    "                trade_pl=-(closeprice/previous_cost_Sells-1)\n",
    "            \n",
    "            current_holding=current_holding+1.0\n",
    "            \n",
    "            if current_holding>1:\n",
    "                print(temp_count, bool_crossup)\n",
    "                \n",
    "            net_cash_flow=net_cash_flow-closeprice\n",
    "            previous_cost_Buys=closeprice\n",
    "            trades=1.0\n",
    "            \n",
    "            \n",
    "            if initial_cash<1:\n",
    "                initial_cash=closeprice\n",
    "                \n",
    "        elif bool_crossdown:\n",
    "            if (current_holding>0): # cover long\n",
    "                trade_pl=closeprice/previous_cost_Buys-1\n",
    "            \n",
    "            current_holding=current_holding-1.0\n",
    "            net_cash_flow=net_cash_flow+closeprice\n",
    "            previous_cost_Sells=closeprice\n",
    "            trades=-1.0\n",
    "            \n",
    "            if initial_cash<1:\n",
    "                initial_cash=closeprice\n",
    "                  \n",
    "        ticker_holdings.append(current_holding)\n",
    "\n",
    "        cash_flows.append(net_cash_flow)\n",
    "        cum_cash_flow+=net_cash_flow\n",
    "        cum_cash_flows.append(cum_cash_flow)\n",
    "        ticker_trades.append(trades)\n",
    "        ticker_stoploss.append(stoploss_trades)\n",
    "        trades_pl.append(trade_pl)\n",
    "        #stoplosses_pl.append(stoploss_pl)\n",
    "        \n",
    "    df_strategy=pd.DataFrame({\"close\":df[\"close\"],\"holding\": ticker_holdings,\"cash_flows\":cash_flows, \\\n",
    "                          \"trades\":ticker_trades,\"stoploss\":ticker_stoploss, \"trades_pl\":trades_pl\\\n",
    "                              #,\"stoplosses_pl\":stoplosses_pl\n",
    "                              ,\"cum_cash_flow\":cum_cash_flows\n",
    "                             },index=df.index)\n",
    "    \n",
    "    #df_strategy[\"cum_cash_flow\"]=df_strategy[\"cash_flows\"].cumsum() # CUDF doesn't support CUMSUM\n",
    "    df_strategy[\"cash\"]=pd.Series([initial_cash+cum_cf for cum_cf in df_strategy[\"cum_cash_flow\"]],index=df.index).astype(\"float64\")\n",
    "    #print(df_strategy.dtypes)\n",
    "    stra=df_strategy[\"holding\"].astype(\"float64\")*df_strategy[\"close\"]+df_strategy[\"cash\"]\n",
    "    df_strategy.add_column(\"strategy\",stra, forceindex=True)\n",
    "    df_strategy.add_column(\"strategy_pl_cum\",df_strategy[\"strategy\"]/initial_cash-1, forceindex=True)\n",
    "    \n",
    "    return df_strategy"
   ]
  },
  {
   "cell_type": "code",
   "execution_count": 38,
   "metadata": {},
   "outputs": [
    {
     "data": {
      "text/plain": [
       "close            float64\n",
       "holding          float64\n",
       "cash_flows       float64\n",
       "trades           float64\n",
       "stoploss           int64\n",
       "trades_pl        float64\n",
       "cum_cash_flow    float64\n",
       "cash             float64\n",
       "strategy         float64\n",
       "dtype: object"
      ]
     },
     "execution_count": 38,
     "metadata": {},
     "output_type": "execute_result"
    }
   ],
   "source": [
    "df_strategy.dtypes"
   ]
  },
  {
   "cell_type": "code",
   "execution_count": 41,
   "metadata": {},
   "outputs": [
    {
     "name": "stdout",
     "output_type": "stream",
     "text": [
      "close            float64\n",
      "holding          float64\n",
      "cash_flows       float64\n",
      "trades           float64\n",
      "stoploss           int64\n",
      "trades_pl        float64\n",
      "cum_cash_flow    float64\n",
      "cash             float64\n",
      "strategy         float64\n",
      "dtype: object\n"
     ]
    },
    {
     "ename": "GDFError",
     "evalue": "GDF_UNSUPPORTED_DTYPE",
     "output_type": "error",
     "traceback": [
      "\u001b[0;31m---------------------------------------------------------------------------\u001b[0m",
      "\u001b[0;31mGDFError\u001b[0m                                  Traceback (most recent call last)",
      "\u001b[0;32m<ipython-input-41-75b9c6fdfb53>\u001b[0m in \u001b[0;36m<module>\u001b[0;34m\u001b[0m\n\u001b[1;32m     13\u001b[0m                \u001b[0mincols\u001b[0m\u001b[0;34m=\u001b[0m\u001b[0;34m[\u001b[0m\u001b[0;34m'holding'\u001b[0m\u001b[0;34m,\u001b[0m \u001b[0;34m'close'\u001b[0m\u001b[0;34m,\u001b[0m \u001b[0;34m'cash'\u001b[0m\u001b[0;34m]\u001b[0m\u001b[0;34m,\u001b[0m\u001b[0;34m\u001b[0m\u001b[0;34m\u001b[0m\u001b[0m\n\u001b[1;32m     14\u001b[0m                \u001b[0moutcols\u001b[0m\u001b[0;34m=\u001b[0m\u001b[0mdict\u001b[0m\u001b[0;34m(\u001b[0m\u001b[0mstv\u001b[0m\u001b[0;34m=\u001b[0m\u001b[0mnp\u001b[0m\u001b[0;34m.\u001b[0m\u001b[0mfloat64\u001b[0m\u001b[0;34m)\u001b[0m\u001b[0;34m,\u001b[0m\u001b[0;34m\u001b[0m\u001b[0;34m\u001b[0m\u001b[0m\n\u001b[0;32m---> 15\u001b[0;31m                       kwargs=dict())\n\u001b[0m\u001b[1;32m     16\u001b[0m \u001b[0;34m\u001b[0m\u001b[0m\n\u001b[1;32m     17\u001b[0m \u001b[0mprint\u001b[0m\u001b[0;34m(\u001b[0m\u001b[0mdf_strategy\u001b[0m\u001b[0;34m.\u001b[0m\u001b[0mdtypes\u001b[0m\u001b[0;34m)\u001b[0m\u001b[0;34m\u001b[0m\u001b[0;34m\u001b[0m\u001b[0m\n",
      "\u001b[0;32m~/.conda/envs/py36/lib/python3.6/site-packages/cudf/dataframe/dataframe.py\u001b[0m in \u001b[0;36mapply_rows\u001b[0;34m(self, func, incols, outcols, kwargs, cache_key)\u001b[0m\n\u001b[1;32m   1850\u001b[0m         \"\"\"\n\u001b[1;32m   1851\u001b[0m         return applyutils.apply_rows(self, func, incols, outcols, kwargs,\n\u001b[0;32m-> 1852\u001b[0;31m                                      cache_key=cache_key)\n\u001b[0m\u001b[1;32m   1853\u001b[0m \u001b[0;34m\u001b[0m\u001b[0m\n\u001b[1;32m   1854\u001b[0m     \u001b[0;34m@\u001b[0m\u001b[0mapplyutils\u001b[0m\u001b[0;34m.\u001b[0m\u001b[0mdoc_applychunks\u001b[0m\u001b[0;34m(\u001b[0m\u001b[0;34m)\u001b[0m\u001b[0;34m\u001b[0m\u001b[0;34m\u001b[0m\u001b[0m\n",
      "\u001b[0;32m~/.conda/envs/py36/lib/python3.6/site-packages/cudf/utils/applyutils.py\u001b[0m in \u001b[0;36mapply_rows\u001b[0;34m(df, func, incols, outcols, kwargs, cache_key)\u001b[0m\n\u001b[1;32m     60\u001b[0m     applyrows = ApplyRowsCompiler(func, incols, outcols, kwargs,\n\u001b[1;32m     61\u001b[0m                                   cache_key=cache_key)\n\u001b[0;32m---> 62\u001b[0;31m     \u001b[0;32mreturn\u001b[0m \u001b[0mapplyrows\u001b[0m\u001b[0;34m.\u001b[0m\u001b[0mrun\u001b[0m\u001b[0;34m(\u001b[0m\u001b[0mdf\u001b[0m\u001b[0;34m)\u001b[0m\u001b[0;34m\u001b[0m\u001b[0;34m\u001b[0m\u001b[0m\n\u001b[0m\u001b[1;32m     63\u001b[0m \u001b[0;34m\u001b[0m\u001b[0m\n\u001b[1;32m     64\u001b[0m \u001b[0;34m\u001b[0m\u001b[0m\n",
      "\u001b[0;32m~/.conda/envs/py36/lib/python3.6/site-packages/cudf/utils/applyutils.py\u001b[0m in \u001b[0;36mrun\u001b[0;34m(self, df, **launch_params)\u001b[0m\n\u001b[1;32m    107\u001b[0m         \u001b[0moutdf\u001b[0m \u001b[0;34m=\u001b[0m \u001b[0mdf\u001b[0m\u001b[0;34m.\u001b[0m\u001b[0mcopy\u001b[0m\u001b[0;34m(\u001b[0m\u001b[0;34m)\u001b[0m\u001b[0;34m\u001b[0m\u001b[0;34m\u001b[0m\u001b[0m\n\u001b[1;32m    108\u001b[0m         \u001b[0;32mfor\u001b[0m \u001b[0mk\u001b[0m \u001b[0;32min\u001b[0m \u001b[0msorted\u001b[0m\u001b[0;34m(\u001b[0m\u001b[0mself\u001b[0m\u001b[0;34m.\u001b[0m\u001b[0moutcols\u001b[0m\u001b[0;34m)\u001b[0m\u001b[0;34m:\u001b[0m\u001b[0;34m\u001b[0m\u001b[0;34m\u001b[0m\u001b[0m\n\u001b[0;32m--> 109\u001b[0;31m             \u001b[0moutdf\u001b[0m\u001b[0;34m[\u001b[0m\u001b[0mk\u001b[0m\u001b[0;34m]\u001b[0m \u001b[0;34m=\u001b[0m \u001b[0moutputs\u001b[0m\u001b[0;34m[\u001b[0m\u001b[0mk\u001b[0m\u001b[0;34m]\u001b[0m\u001b[0;34m\u001b[0m\u001b[0;34m\u001b[0m\u001b[0m\n\u001b[0m\u001b[1;32m    110\u001b[0m         \u001b[0;32mreturn\u001b[0m \u001b[0moutdf\u001b[0m\u001b[0;34m\u001b[0m\u001b[0;34m\u001b[0m\u001b[0m\n\u001b[1;32m    111\u001b[0m \u001b[0;34m\u001b[0m\u001b[0m\n",
      "\u001b[0;32m~/.conda/envs/py36/lib/python3.6/site-packages/cudf/dataframe/dataframe.py\u001b[0m in \u001b[0;36m__setitem__\u001b[0;34m(self, name, col)\u001b[0m\n\u001b[1;32m    268\u001b[0m             \u001b[0mself\u001b[0m\u001b[0;34m.\u001b[0m\u001b[0m_cols\u001b[0m\u001b[0;34m[\u001b[0m\u001b[0mname\u001b[0m\u001b[0;34m]\u001b[0m \u001b[0;34m=\u001b[0m \u001b[0mself\u001b[0m\u001b[0;34m.\u001b[0m\u001b[0m_prepare_series_for_add\u001b[0m\u001b[0;34m(\u001b[0m\u001b[0mcol\u001b[0m\u001b[0;34m)\u001b[0m\u001b[0;34m\u001b[0m\u001b[0;34m\u001b[0m\u001b[0m\n\u001b[1;32m    269\u001b[0m         \u001b[0;32melse\u001b[0m\u001b[0;34m:\u001b[0m\u001b[0;34m\u001b[0m\u001b[0;34m\u001b[0m\u001b[0m\n\u001b[0;32m--> 270\u001b[0;31m             \u001b[0mself\u001b[0m\u001b[0;34m.\u001b[0m\u001b[0madd_column\u001b[0m\u001b[0;34m(\u001b[0m\u001b[0mname\u001b[0m\u001b[0;34m,\u001b[0m \u001b[0mcol\u001b[0m\u001b[0;34m)\u001b[0m\u001b[0;34m\u001b[0m\u001b[0;34m\u001b[0m\u001b[0m\n\u001b[0m\u001b[1;32m    271\u001b[0m \u001b[0;34m\u001b[0m\u001b[0m\n\u001b[1;32m    272\u001b[0m     \u001b[0;32mdef\u001b[0m \u001b[0m__delitem__\u001b[0m\u001b[0;34m(\u001b[0m\u001b[0mself\u001b[0m\u001b[0;34m,\u001b[0m \u001b[0mname\u001b[0m\u001b[0;34m)\u001b[0m\u001b[0;34m:\u001b[0m\u001b[0;34m\u001b[0m\u001b[0;34m\u001b[0m\u001b[0m\n",
      "\u001b[0;32m~/.conda/envs/py36/lib/python3.6/site-packages/cudf/dataframe/dataframe.py\u001b[0m in \u001b[0;36madd_column\u001b[0;34m(self, name, data, forceindex)\u001b[0m\n\u001b[1;32m    810\u001b[0m         \u001b[0;32mif\u001b[0m \u001b[0misinstance\u001b[0m\u001b[0;34m(\u001b[0m\u001b[0mdata\u001b[0m\u001b[0;34m,\u001b[0m \u001b[0mGeneratorType\u001b[0m\u001b[0;34m)\u001b[0m\u001b[0;34m:\u001b[0m\u001b[0;34m\u001b[0m\u001b[0;34m\u001b[0m\u001b[0m\n\u001b[1;32m    811\u001b[0m             \u001b[0mdata\u001b[0m \u001b[0;34m=\u001b[0m \u001b[0mSeries\u001b[0m\u001b[0;34m(\u001b[0m\u001b[0mdata\u001b[0m\u001b[0;34m)\u001b[0m\u001b[0;34m\u001b[0m\u001b[0;34m\u001b[0m\u001b[0m\n\u001b[0;32m--> 812\u001b[0;31m         \u001b[0mseries\u001b[0m \u001b[0;34m=\u001b[0m \u001b[0mself\u001b[0m\u001b[0;34m.\u001b[0m\u001b[0m_prepare_series_for_add\u001b[0m\u001b[0;34m(\u001b[0m\u001b[0mdata\u001b[0m\u001b[0;34m,\u001b[0m \u001b[0mforceindex\u001b[0m\u001b[0;34m=\u001b[0m\u001b[0mforceindex\u001b[0m\u001b[0;34m)\u001b[0m\u001b[0;34m\u001b[0m\u001b[0;34m\u001b[0m\u001b[0m\n\u001b[0m\u001b[1;32m    813\u001b[0m         \u001b[0mseries\u001b[0m\u001b[0;34m.\u001b[0m\u001b[0mname\u001b[0m \u001b[0;34m=\u001b[0m \u001b[0mname\u001b[0m\u001b[0;34m\u001b[0m\u001b[0;34m\u001b[0m\u001b[0m\n\u001b[1;32m    814\u001b[0m         \u001b[0mself\u001b[0m\u001b[0;34m.\u001b[0m\u001b[0m_cols\u001b[0m\u001b[0;34m[\u001b[0m\u001b[0mname\u001b[0m\u001b[0;34m]\u001b[0m \u001b[0;34m=\u001b[0m \u001b[0mseries\u001b[0m\u001b[0;34m\u001b[0m\u001b[0;34m\u001b[0m\u001b[0m\n",
      "\u001b[0;32m~/.conda/envs/py36/lib/python3.6/site-packages/cudf/dataframe/dataframe.py\u001b[0m in \u001b[0;36m_prepare_series_for_add\u001b[0;34m(self, col, forceindex)\u001b[0m\n\u001b[1;32m    786\u001b[0m         \u001b[0mempty_index\u001b[0m \u001b[0;34m=\u001b[0m \u001b[0mlen\u001b[0m\u001b[0;34m(\u001b[0m\u001b[0mself\u001b[0m\u001b[0;34m.\u001b[0m\u001b[0m_index\u001b[0m\u001b[0;34m)\u001b[0m \u001b[0;34m==\u001b[0m \u001b[0;36m0\u001b[0m\u001b[0;34m\u001b[0m\u001b[0;34m\u001b[0m\u001b[0m\n\u001b[1;32m    787\u001b[0m         \u001b[0mseries\u001b[0m \u001b[0;34m=\u001b[0m \u001b[0mSeries\u001b[0m\u001b[0;34m(\u001b[0m\u001b[0mcol\u001b[0m\u001b[0;34m)\u001b[0m\u001b[0;34m\u001b[0m\u001b[0;34m\u001b[0m\u001b[0m\n\u001b[0;32m--> 788\u001b[0;31m         \u001b[0;32mif\u001b[0m \u001b[0mforceindex\u001b[0m \u001b[0;32mor\u001b[0m \u001b[0mempty_index\u001b[0m \u001b[0;32mor\u001b[0m \u001b[0mself\u001b[0m\u001b[0;34m.\u001b[0m\u001b[0m_index\u001b[0m\u001b[0;34m.\u001b[0m\u001b[0mequals\u001b[0m\u001b[0;34m(\u001b[0m\u001b[0mseries\u001b[0m\u001b[0;34m.\u001b[0m\u001b[0mindex\u001b[0m\u001b[0;34m)\u001b[0m\u001b[0;34m:\u001b[0m\u001b[0;34m\u001b[0m\u001b[0;34m\u001b[0m\u001b[0m\n\u001b[0m\u001b[1;32m    789\u001b[0m             \u001b[0;32mif\u001b[0m \u001b[0mempty_index\u001b[0m\u001b[0;34m:\u001b[0m\u001b[0;34m\u001b[0m\u001b[0;34m\u001b[0m\u001b[0m\n\u001b[1;32m    790\u001b[0m                 \u001b[0mself\u001b[0m\u001b[0;34m.\u001b[0m\u001b[0m_index\u001b[0m \u001b[0;34m=\u001b[0m \u001b[0mseries\u001b[0m\u001b[0;34m.\u001b[0m\u001b[0mindex\u001b[0m\u001b[0;34m\u001b[0m\u001b[0;34m\u001b[0m\u001b[0m\n",
      "\u001b[0;32m~/.conda/envs/py36/lib/python3.6/site-packages/cudf/dataframe/index.py\u001b[0m in \u001b[0;36mequals\u001b[0;34m(self, other)\u001b[0m\n\u001b[1;32m    197\u001b[0m         \u001b[0;32mif\u001b[0m \u001b[0mlen\u001b[0m\u001b[0;34m(\u001b[0m\u001b[0mself\u001b[0m\u001b[0;34m)\u001b[0m \u001b[0;34m!=\u001b[0m \u001b[0mlen\u001b[0m\u001b[0;34m(\u001b[0m\u001b[0mother\u001b[0m\u001b[0;34m)\u001b[0m\u001b[0;34m:\u001b[0m\u001b[0;34m\u001b[0m\u001b[0;34m\u001b[0m\u001b[0m\n\u001b[1;32m    198\u001b[0m             \u001b[0;32mreturn\u001b[0m \u001b[0;32mFalse\u001b[0m\u001b[0;34m\u001b[0m\u001b[0;34m\u001b[0m\u001b[0m\n\u001b[0;32m--> 199\u001b[0;31m         \u001b[0;32mreturn\u001b[0m \u001b[0;34m(\u001b[0m\u001b[0mself\u001b[0m \u001b[0;34m==\u001b[0m \u001b[0mother\u001b[0m\u001b[0;34m)\u001b[0m\u001b[0;34m.\u001b[0m\u001b[0m_values\u001b[0m\u001b[0;34m.\u001b[0m\u001b[0mall\u001b[0m\u001b[0;34m(\u001b[0m\u001b[0;34m)\u001b[0m\u001b[0;34m\u001b[0m\u001b[0;34m\u001b[0m\u001b[0m\n\u001b[0m\u001b[1;32m    200\u001b[0m \u001b[0;34m\u001b[0m\u001b[0m\n\u001b[1;32m    201\u001b[0m     \u001b[0;32mdef\u001b[0m \u001b[0mjoin\u001b[0m\u001b[0;34m(\u001b[0m\u001b[0mself\u001b[0m\u001b[0;34m,\u001b[0m \u001b[0mother\u001b[0m\u001b[0;34m,\u001b[0m \u001b[0mmethod\u001b[0m\u001b[0;34m,\u001b[0m \u001b[0mhow\u001b[0m\u001b[0;34m=\u001b[0m\u001b[0;34m'left'\u001b[0m\u001b[0;34m,\u001b[0m \u001b[0mreturn_indexers\u001b[0m\u001b[0;34m=\u001b[0m\u001b[0;32mFalse\u001b[0m\u001b[0;34m)\u001b[0m\u001b[0;34m:\u001b[0m\u001b[0;34m\u001b[0m\u001b[0;34m\u001b[0m\u001b[0m\n",
      "\u001b[0;32m~/.conda/envs/py36/lib/python3.6/site-packages/cudf/dataframe/index.py\u001b[0m in \u001b[0;36m__eq__\u001b[0;34m(self, other)\u001b[0m\n\u001b[1;32m    177\u001b[0m \u001b[0;34m\u001b[0m\u001b[0m\n\u001b[1;32m    178\u001b[0m     \u001b[0;32mdef\u001b[0m \u001b[0m__eq__\u001b[0m\u001b[0;34m(\u001b[0m\u001b[0mself\u001b[0m\u001b[0;34m,\u001b[0m \u001b[0mother\u001b[0m\u001b[0;34m)\u001b[0m\u001b[0;34m:\u001b[0m\u001b[0;34m\u001b[0m\u001b[0;34m\u001b[0m\u001b[0m\n\u001b[0;32m--> 179\u001b[0;31m         \u001b[0;32mreturn\u001b[0m \u001b[0mself\u001b[0m\u001b[0;34m.\u001b[0m\u001b[0m_apply_op\u001b[0m\u001b[0;34m(\u001b[0m\u001b[0;34m'__eq__'\u001b[0m\u001b[0;34m,\u001b[0m \u001b[0mother\u001b[0m\u001b[0;34m)\u001b[0m\u001b[0;34m\u001b[0m\u001b[0;34m\u001b[0m\u001b[0m\n\u001b[0m\u001b[1;32m    180\u001b[0m \u001b[0;34m\u001b[0m\u001b[0m\n\u001b[1;32m    181\u001b[0m     \u001b[0;32mdef\u001b[0m \u001b[0m__ne__\u001b[0m\u001b[0;34m(\u001b[0m\u001b[0mself\u001b[0m\u001b[0;34m,\u001b[0m \u001b[0mother\u001b[0m\u001b[0;34m)\u001b[0m\u001b[0;34m:\u001b[0m\u001b[0;34m\u001b[0m\u001b[0;34m\u001b[0m\u001b[0m\n",
      "\u001b[0;32m~/.conda/envs/py36/lib/python3.6/site-packages/cudf/dataframe/index.py\u001b[0m in \u001b[0;36m_apply_op\u001b[0;34m(self, fn, other)\u001b[0m\n\u001b[1;32m    131\u001b[0m         \u001b[0mop\u001b[0m \u001b[0;34m=\u001b[0m \u001b[0mgetattr\u001b[0m\u001b[0;34m(\u001b[0m\u001b[0midx_series\u001b[0m\u001b[0;34m,\u001b[0m \u001b[0mfn\u001b[0m\u001b[0;34m)\u001b[0m\u001b[0;34m\u001b[0m\u001b[0;34m\u001b[0m\u001b[0m\n\u001b[1;32m    132\u001b[0m         \u001b[0;32mif\u001b[0m \u001b[0mother\u001b[0m \u001b[0;32mis\u001b[0m \u001b[0;32mnot\u001b[0m \u001b[0;32mNone\u001b[0m\u001b[0;34m:\u001b[0m\u001b[0;34m\u001b[0m\u001b[0;34m\u001b[0m\u001b[0m\n\u001b[0;32m--> 133\u001b[0;31m             \u001b[0;32mreturn\u001b[0m \u001b[0mas_index\u001b[0m\u001b[0;34m(\u001b[0m\u001b[0mop\u001b[0m\u001b[0;34m(\u001b[0m\u001b[0mother\u001b[0m\u001b[0;34m)\u001b[0m\u001b[0;34m)\u001b[0m\u001b[0;34m\u001b[0m\u001b[0;34m\u001b[0m\u001b[0m\n\u001b[0m\u001b[1;32m    134\u001b[0m         \u001b[0;32melse\u001b[0m\u001b[0;34m:\u001b[0m\u001b[0;34m\u001b[0m\u001b[0;34m\u001b[0m\u001b[0m\n\u001b[1;32m    135\u001b[0m             \u001b[0;32mreturn\u001b[0m \u001b[0mas_index\u001b[0m\u001b[0;34m(\u001b[0m\u001b[0mop\u001b[0m\u001b[0;34m(\u001b[0m\u001b[0;34m)\u001b[0m\u001b[0;34m)\u001b[0m\u001b[0;34m\u001b[0m\u001b[0;34m\u001b[0m\u001b[0m\n",
      "\u001b[0;32m~/.conda/envs/py36/lib/python3.6/site-packages/cudf/dataframe/series.py\u001b[0m in \u001b[0;36m__eq__\u001b[0;34m(self, other)\u001b[0m\n\u001b[1;32m    516\u001b[0m \u001b[0;34m\u001b[0m\u001b[0m\n\u001b[1;32m    517\u001b[0m     \u001b[0;32mdef\u001b[0m \u001b[0m__eq__\u001b[0m\u001b[0;34m(\u001b[0m\u001b[0mself\u001b[0m\u001b[0;34m,\u001b[0m \u001b[0mother\u001b[0m\u001b[0;34m)\u001b[0m\u001b[0;34m:\u001b[0m\u001b[0;34m\u001b[0m\u001b[0;34m\u001b[0m\u001b[0m\n\u001b[0;32m--> 518\u001b[0;31m         \u001b[0;32mreturn\u001b[0m \u001b[0mself\u001b[0m\u001b[0;34m.\u001b[0m\u001b[0m_unordered_compare\u001b[0m\u001b[0;34m(\u001b[0m\u001b[0mother\u001b[0m\u001b[0;34m,\u001b[0m \u001b[0;34m'eq'\u001b[0m\u001b[0;34m)\u001b[0m\u001b[0;34m\u001b[0m\u001b[0;34m\u001b[0m\u001b[0m\n\u001b[0m\u001b[1;32m    519\u001b[0m \u001b[0;34m\u001b[0m\u001b[0m\n\u001b[1;32m    520\u001b[0m     \u001b[0;32mdef\u001b[0m \u001b[0m__ne__\u001b[0m\u001b[0;34m(\u001b[0m\u001b[0mself\u001b[0m\u001b[0;34m,\u001b[0m \u001b[0mother\u001b[0m\u001b[0;34m)\u001b[0m\u001b[0;34m:\u001b[0m\u001b[0;34m\u001b[0m\u001b[0;34m\u001b[0m\u001b[0m\n",
      "\u001b[0;32m~/.conda/envs/py36/lib/python3.6/site-packages/cudf/dataframe/series.py\u001b[0m in \u001b[0;36m_unordered_compare\u001b[0;34m(self, other, cmpops)\u001b[0m\n\u001b[1;32m    500\u001b[0m         \u001b[0mnvtx_range_push\u001b[0m\u001b[0;34m(\u001b[0m\u001b[0;34m\"CUDF_UNORDERED_COMP\"\u001b[0m\u001b[0;34m,\u001b[0m \u001b[0;34m\"orange\"\u001b[0m\u001b[0;34m)\u001b[0m\u001b[0;34m\u001b[0m\u001b[0;34m\u001b[0m\u001b[0m\n\u001b[1;32m    501\u001b[0m         \u001b[0mother\u001b[0m \u001b[0;34m=\u001b[0m \u001b[0mself\u001b[0m\u001b[0;34m.\u001b[0m\u001b[0m_normalize_binop_value\u001b[0m\u001b[0;34m(\u001b[0m\u001b[0mother\u001b[0m\u001b[0;34m)\u001b[0m\u001b[0;34m\u001b[0m\u001b[0;34m\u001b[0m\u001b[0m\n\u001b[0;32m--> 502\u001b[0;31m         \u001b[0moutcol\u001b[0m \u001b[0;34m=\u001b[0m \u001b[0mself\u001b[0m\u001b[0;34m.\u001b[0m\u001b[0m_column\u001b[0m\u001b[0;34m.\u001b[0m\u001b[0munordered_compare\u001b[0m\u001b[0;34m(\u001b[0m\u001b[0mcmpops\u001b[0m\u001b[0;34m,\u001b[0m \u001b[0mother\u001b[0m\u001b[0;34m.\u001b[0m\u001b[0m_column\u001b[0m\u001b[0;34m)\u001b[0m\u001b[0;34m\u001b[0m\u001b[0;34m\u001b[0m\u001b[0m\n\u001b[0m\u001b[1;32m    503\u001b[0m         \u001b[0mresult\u001b[0m \u001b[0;34m=\u001b[0m \u001b[0mself\u001b[0m\u001b[0;34m.\u001b[0m\u001b[0m_copy_construct\u001b[0m\u001b[0;34m(\u001b[0m\u001b[0mdata\u001b[0m\u001b[0;34m=\u001b[0m\u001b[0moutcol\u001b[0m\u001b[0;34m)\u001b[0m\u001b[0;34m\u001b[0m\u001b[0;34m\u001b[0m\u001b[0m\n\u001b[1;32m    504\u001b[0m         \u001b[0mresult\u001b[0m\u001b[0;34m.\u001b[0m\u001b[0mname\u001b[0m \u001b[0;34m=\u001b[0m \u001b[0;32mNone\u001b[0m\u001b[0;34m\u001b[0m\u001b[0;34m\u001b[0m\u001b[0m\n",
      "\u001b[0;32m~/.conda/envs/py36/lib/python3.6/site-packages/cudf/dataframe/datetime.py\u001b[0m in \u001b[0;36munordered_compare\u001b[0;34m(self, cmpop, rhs)\u001b[0m\n\u001b[1;32m    150\u001b[0m             \u001b[0mlhs\u001b[0m\u001b[0;34m,\u001b[0m \u001b[0mrhs\u001b[0m\u001b[0;34m,\u001b[0m\u001b[0;34m\u001b[0m\u001b[0;34m\u001b[0m\u001b[0m\n\u001b[1;32m    151\u001b[0m             \u001b[0mop\u001b[0m\u001b[0;34m=\u001b[0m\u001b[0m_unordered_impl\u001b[0m\u001b[0;34m[\u001b[0m\u001b[0mcmpop\u001b[0m\u001b[0;34m]\u001b[0m\u001b[0;34m,\u001b[0m\u001b[0;34m\u001b[0m\u001b[0;34m\u001b[0m\u001b[0m\n\u001b[0;32m--> 152\u001b[0;31m             \u001b[0mout_dtype\u001b[0m\u001b[0;34m=\u001b[0m\u001b[0mnp\u001b[0m\u001b[0;34m.\u001b[0m\u001b[0mbool\u001b[0m\u001b[0;34m\u001b[0m\u001b[0;34m\u001b[0m\u001b[0m\n\u001b[0m\u001b[1;32m    153\u001b[0m         )\n\u001b[1;32m    154\u001b[0m \u001b[0;34m\u001b[0m\u001b[0m\n",
      "\u001b[0;32m~/.conda/envs/py36/lib/python3.6/site-packages/cudf/dataframe/datetime.py\u001b[0m in \u001b[0;36mbinop\u001b[0;34m(lhs, rhs, op, out_dtype)\u001b[0m\n\u001b[1;32m    231\u001b[0m     \u001b[0mmasked\u001b[0m \u001b[0;34m=\u001b[0m \u001b[0mlhs\u001b[0m\u001b[0;34m.\u001b[0m\u001b[0mhas_null_mask\u001b[0m \u001b[0;32mor\u001b[0m \u001b[0mrhs\u001b[0m\u001b[0;34m.\u001b[0m\u001b[0mhas_null_mask\u001b[0m\u001b[0;34m\u001b[0m\u001b[0;34m\u001b[0m\u001b[0m\n\u001b[1;32m    232\u001b[0m     \u001b[0mout\u001b[0m \u001b[0;34m=\u001b[0m \u001b[0mcolumnops\u001b[0m\u001b[0;34m.\u001b[0m\u001b[0mcolumn_empty_like\u001b[0m\u001b[0;34m(\u001b[0m\u001b[0mlhs\u001b[0m\u001b[0;34m,\u001b[0m \u001b[0mdtype\u001b[0m\u001b[0;34m=\u001b[0m\u001b[0mout_dtype\u001b[0m\u001b[0;34m,\u001b[0m \u001b[0mmasked\u001b[0m\u001b[0;34m=\u001b[0m\u001b[0mmasked\u001b[0m\u001b[0;34m)\u001b[0m\u001b[0;34m\u001b[0m\u001b[0;34m\u001b[0m\u001b[0m\n\u001b[0;32m--> 233\u001b[0;31m     \u001b[0mnull_count\u001b[0m \u001b[0;34m=\u001b[0m \u001b[0m_gdf\u001b[0m\u001b[0;34m.\u001b[0m\u001b[0mapply_binaryop\u001b[0m\u001b[0;34m(\u001b[0m\u001b[0mop\u001b[0m\u001b[0;34m,\u001b[0m \u001b[0mlhs\u001b[0m\u001b[0;34m,\u001b[0m \u001b[0mrhs\u001b[0m\u001b[0;34m,\u001b[0m \u001b[0mout\u001b[0m\u001b[0;34m)\u001b[0m\u001b[0;34m\u001b[0m\u001b[0;34m\u001b[0m\u001b[0m\n\u001b[0m\u001b[1;32m    234\u001b[0m     \u001b[0mout\u001b[0m \u001b[0;34m=\u001b[0m \u001b[0mout\u001b[0m\u001b[0;34m.\u001b[0m\u001b[0mreplace\u001b[0m\u001b[0;34m(\u001b[0m\u001b[0mnull_count\u001b[0m\u001b[0;34m=\u001b[0m\u001b[0mnull_count\u001b[0m\u001b[0;34m)\u001b[0m\u001b[0;34m\u001b[0m\u001b[0;34m\u001b[0m\u001b[0m\n\u001b[1;32m    235\u001b[0m     \u001b[0mnvtx_range_pop\u001b[0m\u001b[0;34m(\u001b[0m\u001b[0;34m)\u001b[0m\u001b[0;34m\u001b[0m\u001b[0;34m\u001b[0m\u001b[0m\n",
      "\u001b[0;32m~/.conda/envs/py36/lib/python3.6/site-packages/cudf/_gdf.py\u001b[0m in \u001b[0;36mapply_binaryop\u001b[0;34m(binop, lhs, rhs, out)\u001b[0m\n\u001b[1;32m    105\u001b[0m     \u001b[0margs\u001b[0m \u001b[0;34m=\u001b[0m \u001b[0;34m(\u001b[0m\u001b[0mlhs\u001b[0m\u001b[0;34m.\u001b[0m\u001b[0mcffi_view\u001b[0m\u001b[0;34m,\u001b[0m \u001b[0mrhs\u001b[0m\u001b[0;34m.\u001b[0m\u001b[0mcffi_view\u001b[0m\u001b[0;34m,\u001b[0m \u001b[0mout\u001b[0m\u001b[0;34m.\u001b[0m\u001b[0mcffi_view\u001b[0m\u001b[0;34m)\u001b[0m\u001b[0;34m\u001b[0m\u001b[0;34m\u001b[0m\u001b[0m\n\u001b[1;32m    106\u001b[0m     \u001b[0;31m# apply binary operator\u001b[0m\u001b[0;34m\u001b[0m\u001b[0;34m\u001b[0m\u001b[0;34m\u001b[0m\u001b[0m\n\u001b[0;32m--> 107\u001b[0;31m     \u001b[0mbinop\u001b[0m\u001b[0;34m(\u001b[0m\u001b[0;34m*\u001b[0m\u001b[0margs\u001b[0m\u001b[0;34m)\u001b[0m\u001b[0;34m\u001b[0m\u001b[0;34m\u001b[0m\u001b[0m\n\u001b[0m\u001b[1;32m    108\u001b[0m     \u001b[0;31m# validity mask\u001b[0m\u001b[0;34m\u001b[0m\u001b[0;34m\u001b[0m\u001b[0;34m\u001b[0m\u001b[0m\n\u001b[1;32m    109\u001b[0m     \u001b[0;32mif\u001b[0m \u001b[0mout\u001b[0m\u001b[0;34m.\u001b[0m\u001b[0mhas_null_mask\u001b[0m\u001b[0;34m:\u001b[0m\u001b[0;34m\u001b[0m\u001b[0;34m\u001b[0m\u001b[0m\n",
      "\u001b[0;32m~/.conda/envs/py36/lib/python3.6/site-packages/libgdf_cffi/wrapper.py\u001b[0m in \u001b[0;36mwrap\u001b[0;34m(*args)\u001b[0m\n\u001b[1;32m     25\u001b[0m                     \u001b[0;32mif\u001b[0m \u001b[0merrcode\u001b[0m \u001b[0;34m!=\u001b[0m \u001b[0mself\u001b[0m\u001b[0;34m.\u001b[0m\u001b[0m_api\u001b[0m\u001b[0;34m.\u001b[0m\u001b[0mGDF_SUCCESS\u001b[0m\u001b[0;34m:\u001b[0m\u001b[0;34m\u001b[0m\u001b[0;34m\u001b[0m\u001b[0m\n\u001b[1;32m     26\u001b[0m                         \u001b[0merrname\u001b[0m\u001b[0;34m,\u001b[0m \u001b[0mmsg\u001b[0m \u001b[0;34m=\u001b[0m \u001b[0mself\u001b[0m\u001b[0;34m.\u001b[0m\u001b[0m_get_error_msg\u001b[0m\u001b[0;34m(\u001b[0m\u001b[0merrcode\u001b[0m\u001b[0;34m)\u001b[0m\u001b[0;34m\u001b[0m\u001b[0;34m\u001b[0m\u001b[0m\n\u001b[0;32m---> 27\u001b[0;31m                         \u001b[0;32mraise\u001b[0m \u001b[0mGDFError\u001b[0m\u001b[0;34m(\u001b[0m\u001b[0merrname\u001b[0m\u001b[0;34m,\u001b[0m \u001b[0mmsg\u001b[0m\u001b[0;34m)\u001b[0m\u001b[0;34m\u001b[0m\u001b[0;34m\u001b[0m\u001b[0m\n\u001b[0m\u001b[1;32m     28\u001b[0m \u001b[0;34m\u001b[0m\u001b[0m\n\u001b[1;32m     29\u001b[0m                 \u001b[0mwrap\u001b[0m\u001b[0;34m.\u001b[0m\u001b[0m__name__\u001b[0m \u001b[0;34m=\u001b[0m \u001b[0mfn\u001b[0m\u001b[0;34m.\u001b[0m\u001b[0m__name__\u001b[0m\u001b[0;34m\u001b[0m\u001b[0;34m\u001b[0m\u001b[0m\n",
      "\u001b[0;31mGDFError\u001b[0m: GDF_UNSUPPORTED_DTYPE"
     ]
    }
   ],
   "source": [
    "print(df_strategy.dtypes)\n",
    "    #df_strategy[\"holding\"]=df_strategy[\"holding\"].astype(\"int32\")\n",
    "    #print(df_strategy.dtypes)\n",
    "holding = df_strategy['holding']\n",
    "close = df_strategy['close']\n",
    "cash = df_strategy['cash']\n",
    "\n",
    "def kernel(holding, close, cash, stv):\n",
    "     for i, (x, y, z) in enumerate(zip(holding, close, cash)):\n",
    "         stv[i] =x*y+z\n",
    "         \n",
    "df_strategy.apply_rows(kernel,\n",
    "               incols=['holding', 'close', 'cash'],\n",
    "               outcols=dict(stv=np.float64),\n",
    "                      kwargs=dict())\n",
    "\n",
    "print(df_strategy.dtypes)"
   ]
  },
  {
   "cell_type": "markdown",
   "metadata": {},
   "source": [
    "## We define the metrics "
   ]
  },
  {
   "cell_type": "code",
   "execution_count": 42,
   "metadata": {},
   "outputs": [],
   "source": [
    "# global parameters we share between \n",
    "annual_trading_days=252\n",
    "\n",
    "risk_free=0.01 # for 2018 the low interest rate\n",
    "risk_free_5m=(1+risk_free)**(1/(annual_trading_days*12*24))-1 \n",
    "annualized_parameter=annual_trading_days**0.5\n",
    "\n",
    "target_daily_return=0 # We use 0 as the target daily return"
   ]
  },
  {
   "cell_type": "code",
   "execution_count": 43,
   "metadata": {},
   "outputs": [
    {
     "data": {
      "text/plain": [
       "1.371022313456649e-07"
      ]
     },
     "execution_count": 43,
     "metadata": {},
     "output_type": "execute_result"
    }
   ],
   "source": [
    "risk_free_5m"
   ]
  },
  {
   "cell_type": "markdown",
   "metadata": {},
   "source": [
    "### Sharpe Ratio"
   ]
  },
  {
   "cell_type": "code",
   "execution_count": 44,
   "metadata": {},
   "outputs": [],
   "source": [
    "def sharpe_ratio(values):\n",
    "    \"\"\"To calculate Sharpe Ratio by portfolio values\"\"\"\n",
    "    daily_return=values.pct_change()\n",
    "    sharpe_ratio=(daily_return.mean()-risk_free_5m)/daily_return.std()\n",
    "    sharpe_ratio_annual=annualized_parameter*sharpe_ratio\n",
    "    return sharpe_ratio,sharpe_ratio_annual"
   ]
  },
  {
   "cell_type": "markdown",
   "metadata": {},
   "source": [
    "### Sortino Ratio"
   ]
  },
  {
   "cell_type": "code",
   "execution_count": 45,
   "metadata": {},
   "outputs": [],
   "source": [
    "def sortino_ratio(values,target_return=0):\n",
    "    \"\"\"To calculate Sortino Ratio by portfolio values\"\"\"    \n",
    "    daily_return=values.pct_change()\n",
    "    expected_return = daily_return.mean()\n",
    "\n",
    "    df_temp=daily_return.to_frame(\"daily\")\n",
    "    sq_mean=df_temp.applymap(lambda x: (x-target_return)**2 if x<target_return else 0).mean()[0] \n",
    "    \n",
    "    #print(sq_mean)\n",
    "    down_stdev = np.sqrt(sq_mean)\n",
    "    \n",
    "    sortino_ratio = (expected_return - risk_free_5m)/down_stdev\n",
    "    \n",
    "    sortino_ratio_annual=annualized_parameter*sortino_ratio\n",
    "    \n",
    "    return sortino_ratio, sortino_ratio_annual"
   ]
  },
  {
   "cell_type": "markdown",
   "metadata": {},
   "source": [
    "### Maximum Drawdown"
   ]
  },
  {
   "cell_type": "code",
   "execution_count": 46,
   "metadata": {},
   "outputs": [],
   "source": [
    "def max_drawdown(values):\n",
    "    \"\"\"To calculate maximum drawdown\"\"\"\n",
    "    return 1-min(values/values.cummax()) # We use positive value"
   ]
  },
  {
   "cell_type": "code",
   "execution_count": 58,
   "metadata": {},
   "outputs": [],
   "source": [
    "if usinggpu:\n",
    "    def strategy_metrics(value_serie):\n",
    "        return 0,0,0    \n",
    "else:\n",
    "    def strategy_metrics(value_serie):\n",
    "        \"\"\"To calculate all required performance indicators\"\"\"\n",
    "        sharpe,sharpe_annual=sharpe_ratio(value_serie)\n",
    "        sortino, sortino_annual=sortino_ratio(value_serie)\n",
    "        max_dd=max_drawdown(value_serie)\n",
    "        return sharpe, sortino,max_dd"
   ]
  },
  {
   "cell_type": "code",
   "execution_count": 48,
   "metadata": {},
   "outputs": [],
   "source": [
    "# clear global variables\n",
    "df_metrics=pd.DataFrame()\n",
    "series=[]\n",
    "dfs={}"
   ]
  },
  {
   "cell_type": "code",
   "execution_count": 68,
   "metadata": {},
   "outputs": [],
   "source": [
    "def all_strategy_test(ma_range_short,ma_range_long,stoploss_range):\n",
    "    \"\"\"Backtest parameter combinations of MA short range, MA long range and stop loss range.\"\"\"\n",
    "    global df_metrics,series,dfs\n",
    "    df_metrics=pd.DataFrame()\n",
    "    series=[]\n",
    "    dfs={}\n",
    "    \n",
    "    for ma_short in ma_range_short:\n",
    "        for ma_long in ma_range_long:\n",
    "            for stoploss in stoploss_range:\n",
    "                strategy_name=str(ma_short)+\"_\"+str(ma_long)+\"_\"+str(stoploss)\n",
    "                df_strategy=strategy_test(df, ma_short, ma_long, stoploss)\n",
    "                dfs[strategy_name]=df_strategy\n",
    "                \n",
    "                sharpe_ratio, sortino,max_dd=strategy_metrics(df_strategy.strategy)\n",
    "            \n",
    "                trades_total=abs(sum(df_strategy.trades))+abs(sum(df_strategy.stoploss))\n",
    "                trades_mean=df_strategy.trades_pl.mean()\n",
    "                final_pl=df_strategy.strategy_pl_cum.iloc[-1]\n",
    "                    \n",
    "                series.append(pd.Series({\"strategy_name\":strategy_name,\"ma_short\":ma_short,\"ma_long\":ma_long,\\\n",
    "                                                        \"stoploss\": stoploss,\"sharpe_ratio\":sharpe_ratio,\"sortino_ratio\":sortino,\\\n",
    "                                                        \"max_drawdown\":max_dd,\\\n",
    "                                        \"Final_Return\":final_pl,\"Total_Trades\":trades_total,\"Average_Trades_PL\":trades_mean\\\n",
    "                                        }))               \n",
    "    \n",
    "    df_metrics=pd.concat(series,ignore_index=True,axis=1)\n",
    "    \n",
    "    if not usinggpu:\n",
    "        df_metrics.transpose()\n",
    "        df_metrics.set_index('strategy_name', inplace=True)\n",
    "        df_metrics.ma_short=df_metrics.ma_short.astype(\"int64\")\n",
    "        df_metrics.ma_long=df_metrics.ma_long.astype(\"int64\")\n",
    "        df_metrics.stoploss=df_metrics.stoploss.astype(\"float64\")\n",
    "        df_metrics.sharpe_ratio =df_metrics.sharpe_ratio.astype(\"float64\")\n",
    "        df_metrics.sortino_ratio =df_metrics.sortino_ratio.astype(\"float64\")\n",
    "        df_metrics.max_drawdown=df_metrics.max_drawdown.astype(\"float64\")\n",
    "        df_metrics.Final_Return=df_metrics.Final_Return.astype(\"float64\")\n",
    "        df_metrics.max_drawdown=df_metrics.max_drawdown.astype(\"float64\")\n",
    "        df_metrics.Total_Trades=df_metrics.Total_Trades.astype(\"int64\")\n",
    "        df_metrics.Average_Trades_PL=df_metrics.Average_Trades_PL.astype(\"float64\")"
   ]
  },
  {
   "cell_type": "markdown",
   "metadata": {},
   "source": [
    "## To Back Test All Strategy Combinations (about 6 minutes)"
   ]
  },
  {
   "cell_type": "code",
   "execution_count": 74,
   "metadata": {},
   "outputs": [
    {
     "name": "stdout",
     "output_type": "stream",
     "text": [
      "0:42:26.020105\n"
     ]
    },
    {
     "data": {
      "text/plain": [
       "<cudf.DataFrame ncols=462 nrows=5 >"
      ]
     },
     "execution_count": 74,
     "metadata": {},
     "output_type": "execute_result"
    }
   ],
   "source": [
    "dt_start=dt.datetime.now()\n",
    "all_strategy_test(ma_range_short,ma_range_long,stoploss_range) \n",
    "#all_strategy_test([7],[35],stoploss_range) \n",
    "dt_end=dt.datetime.now()\n",
    "print(dt_end-dt_start)\n",
    "df_metrics.head()"
   ]
  },
  {
   "cell_type": "code",
   "execution_count": 75,
   "metadata": {},
   "outputs": [
    {
     "name": "stdout",
     "output_type": "stream",
     "text": [
      "                   -1                  0                  1                  2                  3                  4                  5 ...                460\n",
      "0      strategy_name      strategy_name      strategy_name      strategy_name      strategy_name      strategy_name      strategy_name ...      strategy_name\n",
      "1           ma_short           ma_short           ma_short           ma_short           ma_short           ma_short           ma_short ...           ma_short\n",
      "2            ma_long            ma_long            ma_long            ma_long            ma_long            ma_long            ma_long ...            ma_long\n",
      "3           stoploss           stoploss           stoploss           stoploss           stoploss           stoploss           stoploss ...           stoploss\n",
      "4       sharpe_ratio       sharpe_ratio       sharpe_ratio       sharpe_ratio       sharpe_ratio       sharpe_ratio       sharpe_ratio ...       sharpe_ratio\n",
      "5      sortino_ratio      sortino_ratio      sortino_ratio      sortino_ratio      sortino_ratio      sortino_ratio      sortino_ratio ...      sortino_ratio\n",
      "6       max_drawdown       max_drawdown       max_drawdown       max_drawdown       max_drawdown       max_drawdown       max_drawdown ...       max_drawdown\n",
      "7       Final_Return       Final_Return       Final_Return       Final_Return       Final_Return       Final_Return       Final_Return ...       Final_Return\n",
      "8       Total_Trades       Total_Trades       Total_Trades       Total_Trades       Total_Trades       Total_Trades       Total_Trades ...       Total_Trades\n",
      "9  Average_Trades_PL  Average_Trades_PL  Average_Trades_PL  Average_Trades_PL  Average_Trades_PL  Average_Trades_PL  Average_Trades_PL ...  Average_Trades_PL\n",
      "[454 more columns]\n"
     ]
    }
   ],
   "source": [
    "print(df_metrics)"
   ]
  },
  {
   "cell_type": "markdown",
   "metadata": {},
   "source": [
    "# Report Generation"
   ]
  },
  {
   "cell_type": "code",
   "execution_count": 34,
   "metadata": {},
   "outputs": [],
   "source": [
    "# To chart the results\n",
    "def chart_strategy_results(ma_range_short,ma_range_long,stoploss_range, indetail=False):\n",
    "    global df_metrics,series,dfs\n",
    "    \n",
    "    nosubplot=len(ma_range_short)+len(ma_range_long)<=2\n",
    "    \n",
    "    if nosubplot:\n",
    "        fig,axes=plt.subplots()\n",
    "    else:\n",
    "        fig,axes = plt.subplots(len(ma_range_short), len(ma_range_long), sharex='col', sharey='row')\n",
    "    \n",
    "    for ma_short in ma_range_short:\n",
    "        for ma_long in ma_range_long:\n",
    "            #print(ma_range_short.index(ma_short),ma_range_long.index(ma_long))\n",
    "            \n",
    "            if nosubplot:\n",
    "                ax=axes\n",
    "            else: \n",
    "                ax=axes[ma_range_short.index(ma_short),ma_range_long.index(ma_long)]\n",
    "            \n",
    "            ax.text(0.5, 0.5, str(ma_short)+\"  \"+str(ma_long), color='red', ha='center',transform=ax.transAxes)\n",
    "                    #ax.set_title(str(ma_short)+\"  \"+str(ma_long))\n",
    "            #ax.set_title(\"{:.2f}\".format(sharpe_ratio)+\",{:.2f}\".format(sortino)+\",{:.2f}\".format(max_dd))\n",
    "                    \n",
    "            for stoploss in stoploss_range:\n",
    "                # To fetch data\n",
    "                strategy_name=str(ma_short)+\"_\"+str(ma_long)+\"_\"+str(stoploss)\n",
    "                \n",
    "                try:\n",
    "                    df_strategy=dfs[strategy_name]\n",
    "                \n",
    "                    sharpe, sortino,max_dd,final_pl,trades_total,trades_mean\\\n",
    "                        =df_metrics.loc[strategy_name,[\"sharpe_ratio\",\"sortino_ratio\",\"max_drawdown\",\\\n",
    "                                        \"Final_Return\",\"Total_Trades\",\"Average_Trades_PL\"]]\n",
    "                except KeyError:\n",
    "                    continue\n",
    "                    \n",
    "                # To chart\n",
    "                #df_strategy.strategy_pl_cum.plot(ax=ax,label=\"{:.0%}\".format(stoploss))\n",
    "                if stoploss<1:\n",
    "                    ax.plot(df_strategy.index, df_strategy.strategy_pl_cum, label=\"{:.1%}\".format(stoploss))\n",
    "                else:\n",
    "                    ax.plot(df_strategy.index, df_strategy.strategy_pl_cum, label=\"No Stop Loss\")\n",
    "            \n",
    "            if indetail:\n",
    "                ax.legend(loc='lower left', shadow=True)\n",
    "\n",
    "    plt.show()    \n"
   ]
  },
  {
   "cell_type": "code",
   "execution_count": 35,
   "metadata": {},
   "outputs": [
    {
     "name": "stderr",
     "output_type": "stream",
     "text": [
      "/home/ying/.conda/envs/py36/lib/python3.6/site-packages/pandas/plotting/_converter.py:129: FutureWarning: Using an implicitly registered datetime converter for a matplotlib plotting method. The converter was registered by pandas on import. Future versions of pandas will require you to explicitly register matplotlib converters.\n",
      "\n",
      "To register the converters:\n",
      "\t>>> from pandas.plotting import register_matplotlib_converters\n",
      "\t>>> register_matplotlib_converters()\n",
      "  warnings.warn(msg, FutureWarning)\n"
     ]
    },
    {
     "data": {
      "image/png": "[encoded data removed]",
      "text/plain": [
       "<Figure size 432x288 with 1 Axes>"
      ]
     },
     "metadata": {
      "needs_background": "light"
     },
     "output_type": "display_data"
    }
   ],
   "source": [
    "chart_strategy_results([5],[30],stoploss_range,True) # Test"
   ]
  },
  {
   "cell_type": "code",
   "execution_count": 36,
   "metadata": {},
   "outputs": [
    {
     "data": {
      "text/html": [
       "<div>\n",
       "<style scoped>\n",
       "    .dataframe tbody tr th:only-of-type {\n",
       "        vertical-align: middle;\n",
       "    }\n",
       "\n",
       "    .dataframe tbody tr th {\n",
       "        vertical-align: top;\n",
       "    }\n",
       "\n",
       "    .dataframe thead th {\n",
       "        text-align: right;\n",
       "    }\n",
       "</style>\n",
       "<table border=\"1\" class=\"dataframe\">\n",
       "  <thead>\n",
       "    <tr style=\"text-align: right;\">\n",
       "      <th></th>\n",
       "      <th>ma_short</th>\n",
       "      <th>ma_long</th>\n",
       "      <th>stoploss</th>\n",
       "      <th>sharpe_ratio</th>\n",
       "      <th>sortino_ratio</th>\n",
       "      <th>max_drawdown</th>\n",
       "      <th>Final_Return</th>\n",
       "      <th>Total_Trades</th>\n",
       "      <th>Average_Trades_PL</th>\n",
       "    </tr>\n",
       "    <tr>\n",
       "      <th>strategy_name</th>\n",
       "      <th></th>\n",
       "      <th></th>\n",
       "      <th></th>\n",
       "      <th></th>\n",
       "      <th></th>\n",
       "      <th></th>\n",
       "      <th></th>\n",
       "      <th></th>\n",
       "      <th></th>\n",
       "    </tr>\n",
       "  </thead>\n",
       "  <tbody>\n",
       "    <tr>\n",
       "      <th>5_30_0.005</th>\n",
       "      <td>5</td>\n",
       "      <td>30</td>\n",
       "      <td>0.005</td>\n",
       "      <td>0.021422</td>\n",
       "      <td>0.031880</td>\n",
       "      <td>0.118090</td>\n",
       "      <td>1.061817</td>\n",
       "      <td>947</td>\n",
       "      <td>0.000097</td>\n",
       "    </tr>\n",
       "    <tr>\n",
       "      <th>5_30_0.01</th>\n",
       "      <td>5</td>\n",
       "      <td>30</td>\n",
       "      <td>0.010</td>\n",
       "      <td>0.010553</td>\n",
       "      <td>0.015231</td>\n",
       "      <td>0.221069</td>\n",
       "      <td>0.487084</td>\n",
       "      <td>815</td>\n",
       "      <td>0.000050</td>\n",
       "    </tr>\n",
       "    <tr>\n",
       "      <th>5_30_0.02</th>\n",
       "      <td>5</td>\n",
       "      <td>30</td>\n",
       "      <td>0.020</td>\n",
       "      <td>0.007305</td>\n",
       "      <td>0.010504</td>\n",
       "      <td>0.210301</td>\n",
       "      <td>0.295138</td>\n",
       "      <td>714</td>\n",
       "      <td>0.000035</td>\n",
       "    </tr>\n",
       "    <tr>\n",
       "      <th>5_30_0.03</th>\n",
       "      <td>5</td>\n",
       "      <td>30</td>\n",
       "      <td>0.030</td>\n",
       "      <td>0.000970</td>\n",
       "      <td>0.001395</td>\n",
       "      <td>0.432688</td>\n",
       "      <td>-0.038262</td>\n",
       "      <td>693</td>\n",
       "      <td>0.000005</td>\n",
       "    </tr>\n",
       "    <tr>\n",
       "      <th>5_30_0.04</th>\n",
       "      <td>5</td>\n",
       "      <td>30</td>\n",
       "      <td>0.040</td>\n",
       "      <td>0.004629</td>\n",
       "      <td>0.006695</td>\n",
       "      <td>0.261801</td>\n",
       "      <td>0.151366</td>\n",
       "      <td>689</td>\n",
       "      <td>0.000019</td>\n",
       "    </tr>\n",
       "    <tr>\n",
       "      <th>5_30_0.05</th>\n",
       "      <td>5</td>\n",
       "      <td>30</td>\n",
       "      <td>0.050</td>\n",
       "      <td>0.001900</td>\n",
       "      <td>0.002759</td>\n",
       "      <td>0.387121</td>\n",
       "      <td>0.012302</td>\n",
       "      <td>687</td>\n",
       "      <td>0.000009</td>\n",
       "    </tr>\n",
       "    <tr>\n",
       "      <th>5_30_1</th>\n",
       "      <td>5</td>\n",
       "      <td>30</td>\n",
       "      <td>1.000</td>\n",
       "      <td>0.001900</td>\n",
       "      <td>0.002759</td>\n",
       "      <td>0.387121</td>\n",
       "      <td>0.012302</td>\n",
       "      <td>687</td>\n",
       "      <td>0.000009</td>\n",
       "    </tr>\n",
       "  </tbody>\n",
       "</table>\n",
       "</div>"
      ],
      "text/plain": [
       "               ma_short  ma_long  stoploss  sharpe_ratio  sortino_ratio  \\\n",
       "strategy_name                                                             \n",
       "5_30_0.005            5       30     0.005      0.021422       0.031880   \n",
       "5_30_0.01             5       30     0.010      0.010553       0.015231   \n",
       "5_30_0.02             5       30     0.020      0.007305       0.010504   \n",
       "5_30_0.03             5       30     0.030      0.000970       0.001395   \n",
       "5_30_0.04             5       30     0.040      0.004629       0.006695   \n",
       "5_30_0.05             5       30     0.050      0.001900       0.002759   \n",
       "5_30_1                5       30     1.000      0.001900       0.002759   \n",
       "\n",
       "               max_drawdown  Final_Return  Total_Trades  Average_Trades_PL  \n",
       "strategy_name                                                               \n",
       "5_30_0.005         0.118090      1.061817           947           0.000097  \n",
       "5_30_0.01          0.221069      0.487084           815           0.000050  \n",
       "5_30_0.02          0.210301      0.295138           714           0.000035  \n",
       "5_30_0.03          0.432688     -0.038262           693           0.000005  \n",
       "5_30_0.04          0.261801      0.151366           689           0.000019  \n",
       "5_30_0.05          0.387121      0.012302           687           0.000009  \n",
       "5_30_1             0.387121      0.012302           687           0.000009  "
      ]
     },
     "execution_count": 36,
     "metadata": {},
     "output_type": "execute_result"
    }
   ],
   "source": [
    "df_metrics[(df_metrics.ma_short==5) & (df_metrics.ma_long==30)]"
   ]
  },
  {
   "cell_type": "code",
   "execution_count": 37,
   "metadata": {},
   "outputs": [
    {
     "data": {
      "image/png": "[encoded data removed]",
      "text/plain": [
       "<Figure size 432x288 with 1 Axes>"
      ]
     },
     "metadata": {
      "needs_background": "light"
     },
     "output_type": "display_data"
    },
    {
     "data": {
      "image/png": "[encoded data removed]",
      "text/plain": [
       "<Figure size 432x288 with 1 Axes>"
      ]
     },
     "metadata": {
      "needs_background": "light"
     },
     "output_type": "display_data"
    },
    {
     "data": {
      "image/png": "[encoded data removed]",
      "text/plain": [
       "<Figure size 432x288 with 1 Axes>"
      ]
     },
     "metadata": {
      "needs_background": "light"
     },
     "output_type": "display_data"
    },
    {
     "data": {
      "image/png": "[encoded data removed]",
      "text/plain": [
       "<Figure size 432x288 with 1 Axes>"
      ]
     },
     "metadata": {
      "needs_background": "light"
     },
     "output_type": "display_data"
    },
    {
     "data": {
      "image/png": "[encoded data removed]",
      "text/plain": [
       "<Figure size 432x288 with 1 Axes>"
      ]
     },
     "metadata": {
      "needs_background": "light"
     },
     "output_type": "display_data"
    },
    {
     "data": {
      "image/png": "[encoded data removed]",
      "text/plain": [
       "<Figure size 432x288 with 1 Axes>"
      ]
     },
     "metadata": {
      "needs_background": "light"
     },
     "output_type": "display_data"
    },
    {
     "data": {
      "image/png": "[encoded data removed]",
      "text/plain": [
       "<Figure size 432x288 with 1 Axes>"
      ]
     },
     "metadata": {
      "needs_background": "light"
     },
     "output_type": "display_data"
    }
   ],
   "source": [
    "def chart_trade_pl(ma_short, ma_long, stoploss_range):\n",
    "    for stoploss in stoploss_range:\n",
    "        # To fetch data\n",
    "        strategy_name=str(ma_short)+\"_\"+str(ma_long)+\"_\"+str(stoploss)\n",
    "                \n",
    "        try:\n",
    "            df_strategy=dfs[strategy_name]\n",
    "                \n",
    "            sharpe, sortino,max_dd,final_pl,trades_total,trades_mean\\\n",
    "                        =df_metrics.loc[strategy_name,[\"sharpe_ratio\",\"sortino_ratio\",\"max_drawdown\",\\\n",
    "                                        \"Final_Return\",\"Total_Trades\",\"Average_Trades_PL\"]]\n",
    "        except KeyError:\n",
    "            continue\n",
    "        \n",
    "        df_filter=abs(df_strategy[\"trades\"])+abs(df_strategy[\"stoploss\"])>0\n",
    "        \n",
    "        df_strategy[df_filter].trades_pl.plot(kind=\"hist\",bins=100);\n",
    "            \n",
    "        if stoploss<1:\n",
    "            plt.title(\"MA short=\"+str(ma_short)+\"; MA long=\"+str(ma_long)+\"; Stop loss={:.1%}\".format(stoploss)+\\\n",
    "                          \"\\ntrades=\"+str(trades_total)+\"PL mean=\"+str(trades_mean))\n",
    "        else:\n",
    "            plt.title(\"MA short=\"+str(ma_short)+\"; MA long=\"+str(ma_long)+\"; No Stop Loss\"+\\\n",
    "                      \"\\ntrades=\"+str(trades_total)+\"PL mean=\"+str(trades_mean))\n",
    "\n",
    "        plt.show()\n",
    "\n",
    "chart_trade_pl(5,30,stoploss_range)            "
   ]
  },
  {
   "cell_type": "code",
   "execution_count": 38,
   "metadata": {},
   "outputs": [
    {
     "data": {
      "image/png": "[encoded data removed]",
      "text/plain": [
       "<Figure size 432x288 with 1 Axes>"
      ]
     },
     "metadata": {
      "needs_background": "light"
     },
     "output_type": "display_data"
    },
    {
     "data": {
      "image/png": "[encoded data removed]",
      "text/plain": [
       "<Figure size 432x288 with 1 Axes>"
      ]
     },
     "metadata": {
      "needs_background": "light"
     },
     "output_type": "display_data"
    },
    {
     "data": {
      "image/png": "[encoded data removed]",
      "text/plain": [
       "<Figure size 432x288 with 1 Axes>"
      ]
     },
     "metadata": {
      "needs_background": "light"
     },
     "output_type": "display_data"
    },
    {
     "data": {
      "image/png": "[encoded data removed]",
      "text/plain": [
       "<Figure size 432x288 with 1 Axes>"
      ]
     },
     "metadata": {
      "needs_background": "light"
     },
     "output_type": "display_data"
    },
    {
     "data": {
      "image/png": "[encoded data removed]",
      "text/plain": [
       "<Figure size 432x288 with 1 Axes>"
      ]
     },
     "metadata": {
      "needs_background": "light"
     },
     "output_type": "display_data"
    },
    {
     "data": {
      "image/png": "[encoded data removed]",
      "text/plain": [
       "<Figure size 432x288 with 1 Axes>"
      ]
     },
     "metadata": {
      "needs_background": "light"
     },
     "output_type": "display_data"
    },
    {
     "data": {
      "image/png": "[encoded data removed]",
      "text/plain": [
       "<Figure size 432x288 with 1 Axes>"
      ]
     },
     "metadata": {
      "needs_background": "light"
     },
     "output_type": "display_data"
    }
   ],
   "source": [
    "def chart_heatmap(ma_short, ma_long, stoploss_range):\n",
    "    for stoploss in stoploss_range:\n",
    "        # To fetch data\n",
    "        strategy_name=str(ma_short)+\"_\"+str(ma_long)+\"_\"+str(stoploss)\n",
    "                \n",
    "        try:\n",
    "            df_strategy=dfs[strategy_name]\n",
    "                \n",
    "            sharpe, sortino,max_dd,final_pl,trades_total,trades_mean\\\n",
    "                        =df_metrics.loc[strategy_name,[\"sharpe_ratio\",\"sortino_ratio\",\"max_drawdown\",\\\n",
    "                                        \"Final_Return\",\"Total_Trades\",\"Average_Trades_PL\"]]\n",
    "        except KeyError:\n",
    "            continue\n",
    "        \n",
    "        df_filter=abs(df_strategy[\"trades\"])+abs(df_strategy[\"stoploss\"])>0\n",
    "        \n",
    "        df_strategy[df_filter].trades_pl.plot(kind=\"hist\",bins=100);\n",
    "            \n",
    "        if stoploss<1:\n",
    "            plt.title(\"MA short=\"+str(ma_short)+\"; MA long=\"+str(ma_long)+\"; Stop loss={:.1%}\".format(stoploss)+\\\n",
    "                          \"\\ntrades=\"+str(trades_total)+\"PL mean=\"+str(trades_mean))\n",
    "        else:\n",
    "            plt.title(\"MA short=\"+str(ma_short)+\"; MA long=\"+str(ma_long)+\"; No Stop Loss\"+\\\n",
    "                      \"\\ntrades=\"+str(trades_total)+\"PL mean=\"+str(trades_mean))\n",
    "\n",
    "        plt.show()\n",
    "\n",
    "chart_heatmap(5,30,stoploss_range)            "
   ]
  },
  {
   "cell_type": "code",
   "execution_count": 39,
   "metadata": {},
   "outputs": [
    {
     "data": {
      "text/html": [
       "<div>\n",
       "<style scoped>\n",
       "    .dataframe tbody tr th:only-of-type {\n",
       "        vertical-align: middle;\n",
       "    }\n",
       "\n",
       "    .dataframe tbody tr th {\n",
       "        vertical-align: top;\n",
       "    }\n",
       "\n",
       "    .dataframe thead th {\n",
       "        text-align: right;\n",
       "    }\n",
       "</style>\n",
       "<table border=\"1\" class=\"dataframe\">\n",
       "  <thead>\n",
       "    <tr style=\"text-align: right;\">\n",
       "      <th></th>\n",
       "      <th>ma_short</th>\n",
       "      <th>ma_long</th>\n",
       "      <th>stoploss</th>\n",
       "      <th>sharpe_ratio</th>\n",
       "      <th>sortino_ratio</th>\n",
       "      <th>max_drawdown</th>\n",
       "      <th>Final_Return</th>\n",
       "      <th>Total_Trades</th>\n",
       "      <th>Average_Trades_PL</th>\n",
       "    </tr>\n",
       "    <tr>\n",
       "      <th>strategy_name</th>\n",
       "      <th></th>\n",
       "      <th></th>\n",
       "      <th></th>\n",
       "      <th></th>\n",
       "      <th></th>\n",
       "      <th></th>\n",
       "      <th></th>\n",
       "      <th></th>\n",
       "      <th></th>\n",
       "    </tr>\n",
       "  </thead>\n",
       "  <tbody>\n",
       "    <tr>\n",
       "      <th>5_25_0.005</th>\n",
       "      <td>5</td>\n",
       "      <td>25</td>\n",
       "      <td>0.005</td>\n",
       "      <td>0.022801</td>\n",
       "      <td>0.033931</td>\n",
       "      <td>0.091947</td>\n",
       "      <td>1.046471</td>\n",
       "      <td>1065</td>\n",
       "      <td>0.000088</td>\n",
       "    </tr>\n",
       "    <tr>\n",
       "      <th>5_25_0.01</th>\n",
       "      <td>5</td>\n",
       "      <td>25</td>\n",
       "      <td>0.010</td>\n",
       "      <td>0.012218</td>\n",
       "      <td>0.017792</td>\n",
       "      <td>0.160273</td>\n",
       "      <td>0.551697</td>\n",
       "      <td>905</td>\n",
       "      <td>0.000049</td>\n",
       "    </tr>\n",
       "    <tr>\n",
       "      <th>5_25_0.02</th>\n",
       "      <td>5</td>\n",
       "      <td>25</td>\n",
       "      <td>0.020</td>\n",
       "      <td>0.010294</td>\n",
       "      <td>0.014847</td>\n",
       "      <td>0.192186</td>\n",
       "      <td>0.444551</td>\n",
       "      <td>791</td>\n",
       "      <td>0.000044</td>\n",
       "    </tr>\n",
       "    <tr>\n",
       "      <th>5_25_0.03</th>\n",
       "      <td>5</td>\n",
       "      <td>25</td>\n",
       "      <td>0.030</td>\n",
       "      <td>0.002494</td>\n",
       "      <td>0.003512</td>\n",
       "      <td>0.279271</td>\n",
       "      <td>0.043530</td>\n",
       "      <td>776</td>\n",
       "      <td>0.000007</td>\n",
       "    </tr>\n",
       "    <tr>\n",
       "      <th>5_25_0.04</th>\n",
       "      <td>5</td>\n",
       "      <td>25</td>\n",
       "      <td>0.040</td>\n",
       "      <td>0.006253</td>\n",
       "      <td>0.009065</td>\n",
       "      <td>0.236733</td>\n",
       "      <td>0.231064</td>\n",
       "      <td>769</td>\n",
       "      <td>0.000024</td>\n",
       "    </tr>\n",
       "  </tbody>\n",
       "</table>\n",
       "</div>"
      ],
      "text/plain": [
       "               ma_short  ma_long  stoploss  sharpe_ratio  sortino_ratio  \\\n",
       "strategy_name                                                             \n",
       "5_25_0.005            5       25     0.005      0.022801       0.033931   \n",
       "5_25_0.01             5       25     0.010      0.012218       0.017792   \n",
       "5_25_0.02             5       25     0.020      0.010294       0.014847   \n",
       "5_25_0.03             5       25     0.030      0.002494       0.003512   \n",
       "5_25_0.04             5       25     0.040      0.006253       0.009065   \n",
       "\n",
       "               max_drawdown  Final_Return  Total_Trades  Average_Trades_PL  \n",
       "strategy_name                                                               \n",
       "5_25_0.005         0.091947      1.046471          1065           0.000088  \n",
       "5_25_0.01          0.160273      0.551697           905           0.000049  \n",
       "5_25_0.02          0.192186      0.444551           791           0.000044  \n",
       "5_25_0.03          0.279271      0.043530           776           0.000007  \n",
       "5_25_0.04          0.236733      0.231064           769           0.000024  "
      ]
     },
     "execution_count": 39,
     "metadata": {},
     "output_type": "execute_result"
    }
   ],
   "source": [
    "df_metrics.head()"
   ]
  },
  {
   "cell_type": "code",
   "execution_count": 41,
   "metadata": {},
   "outputs": [
    {
     "data": {
      "text/plain": [
       "<matplotlib.axes._subplots.AxesSubplot at 0x7ff85584a080>"
      ]
     },
     "execution_count": 41,
     "metadata": {},
     "output_type": "execute_result"
    },
    {
     "data": {
      "image/png": "[encoded data removed]",
      "text/plain": [
       "<Figure size 432x288 with 2 Axes>"
      ]
     },
     "metadata": {
      "needs_background": "light"
     },
     "output_type": "display_data"
    }
   ],
   "source": [
    "import seaborn as sns\n",
    "table_sharpe = pd.pivot_table(df_metrics, values=['sharpe_ratio'], index=['ma_short'],columns=['ma_long'],\n",
    "                     aggfunc={'sharpe_ratio': np.median})\n",
    "sns.heatmap(table_sharpe)"
   ]
  },
  {
   "cell_type": "code",
   "execution_count": 42,
   "metadata": {},
   "outputs": [
    {
     "data": {
      "text/plain": [
       "<matplotlib.axes._subplots.AxesSubplot at 0x7ff85db99828>"
      ]
     },
     "execution_count": 42,
     "metadata": {},
     "output_type": "execute_result"
    },
    {
     "data": {
      "image/png": "[encoded data removed]",
      "text/plain": [
       "<Figure size 432x288 with 2 Axes>"
      ]
     },
     "metadata": {
      "needs_background": "light"
     },
     "output_type": "display_data"
    }
   ],
   "source": [
    "table_sortino = pd.pivot_table(df_metrics, values=['sortino_ratio'], index=['ma_short'],columns=['ma_long'],\n",
    "                     aggfunc={'sortino_ratio': np.median})\n",
    "sns.heatmap(table_sortino)"
   ]
  },
  {
   "cell_type": "code",
   "execution_count": 43,
   "metadata": {},
   "outputs": [
    {
     "data": {
      "text/plain": [
       "<matplotlib.axes._subplots.AxesSubplot at 0x7ff8552e79e8>"
      ]
     },
     "execution_count": 43,
     "metadata": {},
     "output_type": "execute_result"
    },
    {
     "data": {
      "image/png": "[encoded data removed]",
      "text/plain": [
       "<Figure size 432x288 with 2 Axes>"
      ]
     },
     "metadata": {
      "needs_background": "light"
     },
     "output_type": "display_data"
    }
   ],
   "source": [
    "table_max_drawdown = pd.pivot_table(df_metrics, values=['max_drawdown'], index=['ma_short'],columns=['ma_long'],\n",
    "                     aggfunc={'max_drawdown': np.median})\n",
    "sns.heatmap(table_max_drawdown)"
   ]
  },
  {
   "cell_type": "code",
   "execution_count": 44,
   "metadata": {
    "scrolled": false
   },
   "outputs": [
    {
     "data": {
      "image/png": "[encoded data removed]",
      "text/plain": [
       "<Figure size 432x288 with 66 Axes>"
      ]
     },
     "metadata": {
      "needs_background": "light"
     },
     "output_type": "display_data"
    }
   ],
   "source": [
    "chart_strategy_results(ma_range_short,ma_range_long,stoploss_range) "
   ]
  },
  {
   "cell_type": "markdown",
   "metadata": {},
   "source": [
    "### To save the metrics data"
   ]
  },
  {
   "cell_type": "code",
   "execution_count": 45,
   "metadata": {},
   "outputs": [],
   "source": [
    "df_metrics.to_csv(\"metrics.csv\")"
   ]
  },
  {
   "cell_type": "markdown",
   "metadata": {},
   "source": [
    "## Interactive Analysis on the metrics"
   ]
  },
  {
   "cell_type": "code",
   "execution_count": 46,
   "metadata": {
    "scrolled": true
   },
   "outputs": [
    {
     "data": {
      "text/html": [
       "<div>\n",
       "<style scoped>\n",
       "    .dataframe tbody tr th:only-of-type {\n",
       "        vertical-align: middle;\n",
       "    }\n",
       "\n",
       "    .dataframe tbody tr th {\n",
       "        vertical-align: top;\n",
       "    }\n",
       "\n",
       "    .dataframe thead th {\n",
       "        text-align: right;\n",
       "    }\n",
       "</style>\n",
       "<table border=\"1\" class=\"dataframe\">\n",
       "  <thead>\n",
       "    <tr style=\"text-align: right;\">\n",
       "      <th></th>\n",
       "      <th>ma_short</th>\n",
       "      <th>ma_long</th>\n",
       "      <th>stoploss</th>\n",
       "      <th>sharpe_ratio</th>\n",
       "      <th>sortino_ratio</th>\n",
       "      <th>max_drawdown</th>\n",
       "      <th>Final_Return</th>\n",
       "      <th>Total_Trades</th>\n",
       "      <th>Average_Trades_PL</th>\n",
       "    </tr>\n",
       "    <tr>\n",
       "      <th>strategy_name</th>\n",
       "      <th></th>\n",
       "      <th></th>\n",
       "      <th></th>\n",
       "      <th></th>\n",
       "      <th></th>\n",
       "      <th></th>\n",
       "      <th></th>\n",
       "      <th></th>\n",
       "      <th></th>\n",
       "    </tr>\n",
       "  </thead>\n",
       "  <tbody>\n",
       "    <tr>\n",
       "      <th>6_27_0.005</th>\n",
       "      <td>6</td>\n",
       "      <td>27</td>\n",
       "      <td>0.005</td>\n",
       "      <td>0.026146</td>\n",
       "      <td>0.039174</td>\n",
       "      <td>0.096158</td>\n",
       "      <td>1.349295</td>\n",
       "      <td>967</td>\n",
       "      <td>0.000117</td>\n",
       "    </tr>\n",
       "    <tr>\n",
       "      <th>5_27_0.005</th>\n",
       "      <td>5</td>\n",
       "      <td>27</td>\n",
       "      <td>0.005</td>\n",
       "      <td>0.026080</td>\n",
       "      <td>0.038846</td>\n",
       "      <td>0.081306</td>\n",
       "      <td>1.256488</td>\n",
       "      <td>991</td>\n",
       "      <td>0.000109</td>\n",
       "    </tr>\n",
       "    <tr>\n",
       "      <th>6_25_0.005</th>\n",
       "      <td>6</td>\n",
       "      <td>25</td>\n",
       "      <td>0.005</td>\n",
       "      <td>0.026229</td>\n",
       "      <td>0.039440</td>\n",
       "      <td>0.094679</td>\n",
       "      <td>1.243817</td>\n",
       "      <td>1011</td>\n",
       "      <td>0.000105</td>\n",
       "    </tr>\n",
       "    <tr>\n",
       "      <th>7_26_0.005</th>\n",
       "      <td>7</td>\n",
       "      <td>26</td>\n",
       "      <td>0.005</td>\n",
       "      <td>0.023255</td>\n",
       "      <td>0.034565</td>\n",
       "      <td>0.114354</td>\n",
       "      <td>1.149478</td>\n",
       "      <td>937</td>\n",
       "      <td>0.000104</td>\n",
       "    </tr>\n",
       "    <tr>\n",
       "      <th>5_29_0.005</th>\n",
       "      <td>5</td>\n",
       "      <td>29</td>\n",
       "      <td>0.005</td>\n",
       "      <td>0.022271</td>\n",
       "      <td>0.033172</td>\n",
       "      <td>0.095447</td>\n",
       "      <td>1.098400</td>\n",
       "      <td>967</td>\n",
       "      <td>0.000099</td>\n",
       "    </tr>\n",
       "  </tbody>\n",
       "</table>\n",
       "</div>"
      ],
      "text/plain": [
       "               ma_short  ma_long  stoploss  sharpe_ratio  sortino_ratio  \\\n",
       "strategy_name                                                             \n",
       "6_27_0.005            6       27     0.005      0.026146       0.039174   \n",
       "5_27_0.005            5       27     0.005      0.026080       0.038846   \n",
       "6_25_0.005            6       25     0.005      0.026229       0.039440   \n",
       "7_26_0.005            7       26     0.005      0.023255       0.034565   \n",
       "5_29_0.005            5       29     0.005      0.022271       0.033172   \n",
       "\n",
       "               max_drawdown  Final_Return  Total_Trades  Average_Trades_PL  \n",
       "strategy_name                                                               \n",
       "6_27_0.005         0.096158      1.349295           967           0.000117  \n",
       "5_27_0.005         0.081306      1.256488           991           0.000109  \n",
       "6_25_0.005         0.094679      1.243817          1011           0.000105  \n",
       "7_26_0.005         0.114354      1.149478           937           0.000104  \n",
       "5_29_0.005         0.095447      1.098400           967           0.000099  "
      ]
     },
     "execution_count": 46,
     "metadata": {},
     "output_type": "execute_result"
    }
   ],
   "source": [
    "df_metrics.sort_values(\"Average_Trades_PL\",ascending=False).head()"
   ]
  },
  {
   "cell_type": "code",
   "execution_count": 47,
   "metadata": {},
   "outputs": [
    {
     "data": {
      "text/html": [
       "<div>\n",
       "<style scoped>\n",
       "    .dataframe tbody tr th:only-of-type {\n",
       "        vertical-align: middle;\n",
       "    }\n",
       "\n",
       "    .dataframe tbody tr th {\n",
       "        vertical-align: top;\n",
       "    }\n",
       "\n",
       "    .dataframe thead th {\n",
       "        text-align: right;\n",
       "    }\n",
       "</style>\n",
       "<table border=\"1\" class=\"dataframe\">\n",
       "  <thead>\n",
       "    <tr style=\"text-align: right;\">\n",
       "      <th></th>\n",
       "      <th>ma_short</th>\n",
       "      <th>ma_long</th>\n",
       "      <th>stoploss</th>\n",
       "      <th>sharpe_ratio</th>\n",
       "      <th>sortino_ratio</th>\n",
       "      <th>max_drawdown</th>\n",
       "      <th>Final_Return</th>\n",
       "      <th>Total_Trades</th>\n",
       "      <th>Average_Trades_PL</th>\n",
       "    </tr>\n",
       "    <tr>\n",
       "      <th>strategy_name</th>\n",
       "      <th></th>\n",
       "      <th></th>\n",
       "      <th></th>\n",
       "      <th></th>\n",
       "      <th></th>\n",
       "      <th></th>\n",
       "      <th></th>\n",
       "      <th></th>\n",
       "      <th></th>\n",
       "    </tr>\n",
       "  </thead>\n",
       "  <tbody>\n",
       "    <tr>\n",
       "      <th>6_27_0.005</th>\n",
       "      <td>6</td>\n",
       "      <td>27</td>\n",
       "      <td>0.005</td>\n",
       "      <td>0.026146</td>\n",
       "      <td>0.039174</td>\n",
       "      <td>0.096158</td>\n",
       "      <td>1.349295</td>\n",
       "      <td>967</td>\n",
       "      <td>0.000117</td>\n",
       "    </tr>\n",
       "    <tr>\n",
       "      <th>5_27_0.005</th>\n",
       "      <td>5</td>\n",
       "      <td>27</td>\n",
       "      <td>0.005</td>\n",
       "      <td>0.026080</td>\n",
       "      <td>0.038846</td>\n",
       "      <td>0.081306</td>\n",
       "      <td>1.256488</td>\n",
       "      <td>991</td>\n",
       "      <td>0.000109</td>\n",
       "    </tr>\n",
       "    <tr>\n",
       "      <th>6_25_0.005</th>\n",
       "      <td>6</td>\n",
       "      <td>25</td>\n",
       "      <td>0.005</td>\n",
       "      <td>0.026229</td>\n",
       "      <td>0.039440</td>\n",
       "      <td>0.094679</td>\n",
       "      <td>1.243817</td>\n",
       "      <td>1011</td>\n",
       "      <td>0.000105</td>\n",
       "    </tr>\n",
       "    <tr>\n",
       "      <th>7_26_0.005</th>\n",
       "      <td>7</td>\n",
       "      <td>26</td>\n",
       "      <td>0.005</td>\n",
       "      <td>0.023255</td>\n",
       "      <td>0.034565</td>\n",
       "      <td>0.114354</td>\n",
       "      <td>1.149478</td>\n",
       "      <td>937</td>\n",
       "      <td>0.000104</td>\n",
       "    </tr>\n",
       "    <tr>\n",
       "      <th>7_25_0.005</th>\n",
       "      <td>7</td>\n",
       "      <td>25</td>\n",
       "      <td>0.005</td>\n",
       "      <td>0.024448</td>\n",
       "      <td>0.036544</td>\n",
       "      <td>0.109883</td>\n",
       "      <td>1.135106</td>\n",
       "      <td>951</td>\n",
       "      <td>0.000099</td>\n",
       "    </tr>\n",
       "    <tr>\n",
       "      <th>5_29_0.005</th>\n",
       "      <td>5</td>\n",
       "      <td>29</td>\n",
       "      <td>0.005</td>\n",
       "      <td>0.022271</td>\n",
       "      <td>0.033172</td>\n",
       "      <td>0.095447</td>\n",
       "      <td>1.098400</td>\n",
       "      <td>967</td>\n",
       "      <td>0.000099</td>\n",
       "    </tr>\n",
       "    <tr>\n",
       "      <th>5_28_0.005</th>\n",
       "      <td>5</td>\n",
       "      <td>28</td>\n",
       "      <td>0.005</td>\n",
       "      <td>0.022360</td>\n",
       "      <td>0.033262</td>\n",
       "      <td>0.092306</td>\n",
       "      <td>1.083445</td>\n",
       "      <td>991</td>\n",
       "      <td>0.000098</td>\n",
       "    </tr>\n",
       "    <tr>\n",
       "      <th>7_27_0.005</th>\n",
       "      <td>7</td>\n",
       "      <td>27</td>\n",
       "      <td>0.005</td>\n",
       "      <td>0.022665</td>\n",
       "      <td>0.033780</td>\n",
       "      <td>0.108497</td>\n",
       "      <td>1.079105</td>\n",
       "      <td>895</td>\n",
       "      <td>0.000099</td>\n",
       "    </tr>\n",
       "    <tr>\n",
       "      <th>5_30_0.005</th>\n",
       "      <td>5</td>\n",
       "      <td>30</td>\n",
       "      <td>0.005</td>\n",
       "      <td>0.021422</td>\n",
       "      <td>0.031880</td>\n",
       "      <td>0.118090</td>\n",
       "      <td>1.061817</td>\n",
       "      <td>947</td>\n",
       "      <td>0.000097</td>\n",
       "    </tr>\n",
       "    <tr>\n",
       "      <th>9_25_0.005</th>\n",
       "      <td>9</td>\n",
       "      <td>25</td>\n",
       "      <td>0.005</td>\n",
       "      <td>0.022443</td>\n",
       "      <td>0.033187</td>\n",
       "      <td>0.116181</td>\n",
       "      <td>1.060104</td>\n",
       "      <td>919</td>\n",
       "      <td>0.000097</td>\n",
       "    </tr>\n",
       "  </tbody>\n",
       "</table>\n",
       "</div>"
      ],
      "text/plain": [
       "               ma_short  ma_long  stoploss  sharpe_ratio  sortino_ratio  \\\n",
       "strategy_name                                                             \n",
       "6_27_0.005            6       27     0.005      0.026146       0.039174   \n",
       "5_27_0.005            5       27     0.005      0.026080       0.038846   \n",
       "6_25_0.005            6       25     0.005      0.026229       0.039440   \n",
       "7_26_0.005            7       26     0.005      0.023255       0.034565   \n",
       "7_25_0.005            7       25     0.005      0.024448       0.036544   \n",
       "5_29_0.005            5       29     0.005      0.022271       0.033172   \n",
       "5_28_0.005            5       28     0.005      0.022360       0.033262   \n",
       "7_27_0.005            7       27     0.005      0.022665       0.033780   \n",
       "5_30_0.005            5       30     0.005      0.021422       0.031880   \n",
       "9_25_0.005            9       25     0.005      0.022443       0.033187   \n",
       "\n",
       "               max_drawdown  Final_Return  Total_Trades  Average_Trades_PL  \n",
       "strategy_name                                                               \n",
       "6_27_0.005         0.096158      1.349295           967           0.000117  \n",
       "5_27_0.005         0.081306      1.256488           991           0.000109  \n",
       "6_25_0.005         0.094679      1.243817          1011           0.000105  \n",
       "7_26_0.005         0.114354      1.149478           937           0.000104  \n",
       "7_25_0.005         0.109883      1.135106           951           0.000099  \n",
       "5_29_0.005         0.095447      1.098400           967           0.000099  \n",
       "5_28_0.005         0.092306      1.083445           991           0.000098  \n",
       "7_27_0.005         0.108497      1.079105           895           0.000099  \n",
       "5_30_0.005         0.118090      1.061817           947           0.000097  \n",
       "9_25_0.005         0.116181      1.060104           919           0.000097  "
      ]
     },
     "execution_count": 47,
     "metadata": {},
     "output_type": "execute_result"
    }
   ],
   "source": [
    "df_metrics.sort_values(\"Final_Return\",ascending=False).head(10)"
   ]
  },
  {
   "cell_type": "code",
   "execution_count": 48,
   "metadata": {},
   "outputs": [
    {
     "data": {
      "text/html": [
       "<div>\n",
       "<style scoped>\n",
       "    .dataframe tbody tr th:only-of-type {\n",
       "        vertical-align: middle;\n",
       "    }\n",
       "\n",
       "    .dataframe tbody tr th {\n",
       "        vertical-align: top;\n",
       "    }\n",
       "\n",
       "    .dataframe thead th {\n",
       "        text-align: right;\n",
       "    }\n",
       "</style>\n",
       "<table border=\"1\" class=\"dataframe\">\n",
       "  <thead>\n",
       "    <tr style=\"text-align: right;\">\n",
       "      <th></th>\n",
       "      <th></th>\n",
       "      <th>stoploss</th>\n",
       "      <th>sharpe_ratio</th>\n",
       "      <th>sortino_ratio</th>\n",
       "      <th>max_drawdown</th>\n",
       "      <th>Final_Return</th>\n",
       "      <th>Total_Trades</th>\n",
       "      <th>Average_Trades_PL</th>\n",
       "    </tr>\n",
       "    <tr>\n",
       "      <th>ma_short</th>\n",
       "      <th>ma_long</th>\n",
       "      <th></th>\n",
       "      <th></th>\n",
       "      <th></th>\n",
       "      <th></th>\n",
       "      <th></th>\n",
       "      <th></th>\n",
       "      <th></th>\n",
       "    </tr>\n",
       "  </thead>\n",
       "  <tbody>\n",
       "    <tr>\n",
       "      <th rowspan=\"6\" valign=\"top\">5</th>\n",
       "      <th>27</th>\n",
       "      <td>0.03</td>\n",
       "      <td>0.007407</td>\n",
       "      <td>0.010744</td>\n",
       "      <td>0.220947</td>\n",
       "      <td>0.295698</td>\n",
       "      <td>738</td>\n",
       "      <td>0.000033</td>\n",
       "    </tr>\n",
       "    <tr>\n",
       "      <th>29</th>\n",
       "      <td>0.03</td>\n",
       "      <td>0.006369</td>\n",
       "      <td>0.009229</td>\n",
       "      <td>0.245154</td>\n",
       "      <td>0.241214</td>\n",
       "      <td>706</td>\n",
       "      <td>0.000027</td>\n",
       "    </tr>\n",
       "    <tr>\n",
       "      <th>25</th>\n",
       "      <td>0.03</td>\n",
       "      <td>0.006253</td>\n",
       "      <td>0.009065</td>\n",
       "      <td>0.236733</td>\n",
       "      <td>0.231064</td>\n",
       "      <td>776</td>\n",
       "      <td>0.000024</td>\n",
       "    </tr>\n",
       "    <tr>\n",
       "      <th>26</th>\n",
       "      <td>0.03</td>\n",
       "      <td>0.005467</td>\n",
       "      <td>0.007861</td>\n",
       "      <td>0.256381</td>\n",
       "      <td>0.187115</td>\n",
       "      <td>756</td>\n",
       "      <td>0.000020</td>\n",
       "    </tr>\n",
       "    <tr>\n",
       "      <th>28</th>\n",
       "      <td>0.03</td>\n",
       "      <td>0.005293</td>\n",
       "      <td>0.007665</td>\n",
       "      <td>0.253864</td>\n",
       "      <td>0.185019</td>\n",
       "      <td>726</td>\n",
       "      <td>0.000022</td>\n",
       "    </tr>\n",
       "    <tr>\n",
       "      <th>31</th>\n",
       "      <td>0.03</td>\n",
       "      <td>0.005272</td>\n",
       "      <td>0.007613</td>\n",
       "      <td>0.263142</td>\n",
       "      <td>0.184634</td>\n",
       "      <td>673</td>\n",
       "      <td>0.000022</td>\n",
       "    </tr>\n",
       "    <tr>\n",
       "      <th>9</th>\n",
       "      <th>25</th>\n",
       "      <td>0.03</td>\n",
       "      <td>0.004686</td>\n",
       "      <td>0.006590</td>\n",
       "      <td>0.296020</td>\n",
       "      <td>0.149457</td>\n",
       "      <td>663</td>\n",
       "      <td>0.000016</td>\n",
       "    </tr>\n",
       "    <tr>\n",
       "      <th rowspan=\"2\" valign=\"top\">5</th>\n",
       "      <th>30</th>\n",
       "      <td>0.03</td>\n",
       "      <td>0.004629</td>\n",
       "      <td>0.006695</td>\n",
       "      <td>0.261801</td>\n",
       "      <td>0.151366</td>\n",
       "      <td>693</td>\n",
       "      <td>0.000019</td>\n",
       "    </tr>\n",
       "    <tr>\n",
       "      <th>32</th>\n",
       "      <td>0.03</td>\n",
       "      <td>0.004403</td>\n",
       "      <td>0.006316</td>\n",
       "      <td>0.253770</td>\n",
       "      <td>0.137412</td>\n",
       "      <td>663</td>\n",
       "      <td>0.000016</td>\n",
       "    </tr>\n",
       "    <tr>\n",
       "      <th>10</th>\n",
       "      <th>25</th>\n",
       "      <td>0.03</td>\n",
       "      <td>0.003918</td>\n",
       "      <td>0.005624</td>\n",
       "      <td>0.238225</td>\n",
       "      <td>0.114713</td>\n",
       "      <td>653</td>\n",
       "      <td>0.000008</td>\n",
       "    </tr>\n",
       "  </tbody>\n",
       "</table>\n",
       "</div>"
      ],
      "text/plain": [
       "                  stoploss  sharpe_ratio  sortino_ratio  max_drawdown  \\\n",
       "ma_short ma_long                                                        \n",
       "5        27           0.03      0.007407       0.010744      0.220947   \n",
       "         29           0.03      0.006369       0.009229      0.245154   \n",
       "         25           0.03      0.006253       0.009065      0.236733   \n",
       "         26           0.03      0.005467       0.007861      0.256381   \n",
       "         28           0.03      0.005293       0.007665      0.253864   \n",
       "         31           0.03      0.005272       0.007613      0.263142   \n",
       "9        25           0.03      0.004686       0.006590      0.296020   \n",
       "5        30           0.03      0.004629       0.006695      0.261801   \n",
       "         32           0.03      0.004403       0.006316      0.253770   \n",
       "10       25           0.03      0.003918       0.005624      0.238225   \n",
       "\n",
       "                  Final_Return  Total_Trades  Average_Trades_PL  \n",
       "ma_short ma_long                                                 \n",
       "5        27           0.295698           738           0.000033  \n",
       "         29           0.241214           706           0.000027  \n",
       "         25           0.231064           776           0.000024  \n",
       "         26           0.187115           756           0.000020  \n",
       "         28           0.185019           726           0.000022  \n",
       "         31           0.184634           673           0.000022  \n",
       "9        25           0.149457           663           0.000016  \n",
       "5        30           0.151366           693           0.000019  \n",
       "         32           0.137412           663           0.000016  \n",
       "10       25           0.114713           653           0.000008  "
      ]
     },
     "execution_count": 48,
     "metadata": {},
     "output_type": "execute_result"
    }
   ],
   "source": [
    "df_by_sharpe=df_metrics.groupby([\"ma_short\",\"ma_long\"]).median().sort_values(\"sharpe_ratio\",ascending=False).head(10)\n",
    "df_by_sharpe"
   ]
  },
  {
   "cell_type": "code",
   "execution_count": 49,
   "metadata": {
    "scrolled": true
   },
   "outputs": [
    {
     "data": {
      "text/html": [
       "<div>\n",
       "<style scoped>\n",
       "    .dataframe tbody tr th:only-of-type {\n",
       "        vertical-align: middle;\n",
       "    }\n",
       "\n",
       "    .dataframe tbody tr th {\n",
       "        vertical-align: top;\n",
       "    }\n",
       "\n",
       "    .dataframe thead th {\n",
       "        text-align: right;\n",
       "    }\n",
       "</style>\n",
       "<table border=\"1\" class=\"dataframe\">\n",
       "  <thead>\n",
       "    <tr style=\"text-align: right;\">\n",
       "      <th></th>\n",
       "      <th></th>\n",
       "      <th>stoploss</th>\n",
       "      <th>sharpe_ratio</th>\n",
       "      <th>sortino_ratio</th>\n",
       "      <th>max_drawdown</th>\n",
       "      <th>Final_Return</th>\n",
       "      <th>Total_Trades</th>\n",
       "      <th>Average_Trades_PL</th>\n",
       "    </tr>\n",
       "    <tr>\n",
       "      <th>ma_short</th>\n",
       "      <th>ma_long</th>\n",
       "      <th></th>\n",
       "      <th></th>\n",
       "      <th></th>\n",
       "      <th></th>\n",
       "      <th></th>\n",
       "      <th></th>\n",
       "      <th></th>\n",
       "    </tr>\n",
       "  </thead>\n",
       "  <tbody>\n",
       "    <tr>\n",
       "      <th rowspan=\"7\" valign=\"top\">5</th>\n",
       "      <th>27</th>\n",
       "      <td>0.03</td>\n",
       "      <td>0.007407</td>\n",
       "      <td>0.010744</td>\n",
       "      <td>0.220947</td>\n",
       "      <td>0.295698</td>\n",
       "      <td>738</td>\n",
       "      <td>0.000033</td>\n",
       "    </tr>\n",
       "    <tr>\n",
       "      <th>29</th>\n",
       "      <td>0.03</td>\n",
       "      <td>0.006369</td>\n",
       "      <td>0.009229</td>\n",
       "      <td>0.245154</td>\n",
       "      <td>0.241214</td>\n",
       "      <td>706</td>\n",
       "      <td>0.000027</td>\n",
       "    </tr>\n",
       "    <tr>\n",
       "      <th>25</th>\n",
       "      <td>0.03</td>\n",
       "      <td>0.006253</td>\n",
       "      <td>0.009065</td>\n",
       "      <td>0.236733</td>\n",
       "      <td>0.231064</td>\n",
       "      <td>776</td>\n",
       "      <td>0.000024</td>\n",
       "    </tr>\n",
       "    <tr>\n",
       "      <th>26</th>\n",
       "      <td>0.03</td>\n",
       "      <td>0.005467</td>\n",
       "      <td>0.007861</td>\n",
       "      <td>0.256381</td>\n",
       "      <td>0.187115</td>\n",
       "      <td>756</td>\n",
       "      <td>0.000020</td>\n",
       "    </tr>\n",
       "    <tr>\n",
       "      <th>28</th>\n",
       "      <td>0.03</td>\n",
       "      <td>0.005293</td>\n",
       "      <td>0.007665</td>\n",
       "      <td>0.253864</td>\n",
       "      <td>0.185019</td>\n",
       "      <td>726</td>\n",
       "      <td>0.000022</td>\n",
       "    </tr>\n",
       "    <tr>\n",
       "      <th>31</th>\n",
       "      <td>0.03</td>\n",
       "      <td>0.005272</td>\n",
       "      <td>0.007613</td>\n",
       "      <td>0.263142</td>\n",
       "      <td>0.184634</td>\n",
       "      <td>673</td>\n",
       "      <td>0.000022</td>\n",
       "    </tr>\n",
       "    <tr>\n",
       "      <th>30</th>\n",
       "      <td>0.03</td>\n",
       "      <td>0.004629</td>\n",
       "      <td>0.006695</td>\n",
       "      <td>0.261801</td>\n",
       "      <td>0.151366</td>\n",
       "      <td>693</td>\n",
       "      <td>0.000019</td>\n",
       "    </tr>\n",
       "    <tr>\n",
       "      <th>9</th>\n",
       "      <th>25</th>\n",
       "      <td>0.03</td>\n",
       "      <td>0.004686</td>\n",
       "      <td>0.006590</td>\n",
       "      <td>0.296020</td>\n",
       "      <td>0.149457</td>\n",
       "      <td>663</td>\n",
       "      <td>0.000016</td>\n",
       "    </tr>\n",
       "    <tr>\n",
       "      <th>5</th>\n",
       "      <th>32</th>\n",
       "      <td>0.03</td>\n",
       "      <td>0.004403</td>\n",
       "      <td>0.006316</td>\n",
       "      <td>0.253770</td>\n",
       "      <td>0.137412</td>\n",
       "      <td>663</td>\n",
       "      <td>0.000016</td>\n",
       "    </tr>\n",
       "    <tr>\n",
       "      <th>10</th>\n",
       "      <th>25</th>\n",
       "      <td>0.03</td>\n",
       "      <td>0.003918</td>\n",
       "      <td>0.005624</td>\n",
       "      <td>0.238225</td>\n",
       "      <td>0.114713</td>\n",
       "      <td>653</td>\n",
       "      <td>0.000008</td>\n",
       "    </tr>\n",
       "  </tbody>\n",
       "</table>\n",
       "</div>"
      ],
      "text/plain": [
       "                  stoploss  sharpe_ratio  sortino_ratio  max_drawdown  \\\n",
       "ma_short ma_long                                                        \n",
       "5        27           0.03      0.007407       0.010744      0.220947   \n",
       "         29           0.03      0.006369       0.009229      0.245154   \n",
       "         25           0.03      0.006253       0.009065      0.236733   \n",
       "         26           0.03      0.005467       0.007861      0.256381   \n",
       "         28           0.03      0.005293       0.007665      0.253864   \n",
       "         31           0.03      0.005272       0.007613      0.263142   \n",
       "         30           0.03      0.004629       0.006695      0.261801   \n",
       "9        25           0.03      0.004686       0.006590      0.296020   \n",
       "5        32           0.03      0.004403       0.006316      0.253770   \n",
       "10       25           0.03      0.003918       0.005624      0.238225   \n",
       "\n",
       "                  Final_Return  Total_Trades  Average_Trades_PL  \n",
       "ma_short ma_long                                                 \n",
       "5        27           0.295698           738           0.000033  \n",
       "         29           0.241214           706           0.000027  \n",
       "         25           0.231064           776           0.000024  \n",
       "         26           0.187115           756           0.000020  \n",
       "         28           0.185019           726           0.000022  \n",
       "         31           0.184634           673           0.000022  \n",
       "         30           0.151366           693           0.000019  \n",
       "9        25           0.149457           663           0.000016  \n",
       "5        32           0.137412           663           0.000016  \n",
       "10       25           0.114713           653           0.000008  "
      ]
     },
     "execution_count": 49,
     "metadata": {},
     "output_type": "execute_result"
    }
   ],
   "source": [
    "df_by_sortino=df_metrics.groupby([\"ma_short\",\"ma_long\"]).median().sort_values(\"sortino_ratio\",ascending=False).head(10)\n",
    "df_by_sortino"
   ]
  },
  {
   "cell_type": "code",
   "execution_count": 50,
   "metadata": {},
   "outputs": [
    {
     "data": {
      "text/html": [
       "<div>\n",
       "<style scoped>\n",
       "    .dataframe tbody tr th:only-of-type {\n",
       "        vertical-align: middle;\n",
       "    }\n",
       "\n",
       "    .dataframe tbody tr th {\n",
       "        vertical-align: top;\n",
       "    }\n",
       "\n",
       "    .dataframe thead th {\n",
       "        text-align: right;\n",
       "    }\n",
       "</style>\n",
       "<table border=\"1\" class=\"dataframe\">\n",
       "  <thead>\n",
       "    <tr style=\"text-align: right;\">\n",
       "      <th></th>\n",
       "      <th></th>\n",
       "      <th>stoploss</th>\n",
       "      <th>sharpe_ratio</th>\n",
       "      <th>sortino_ratio</th>\n",
       "      <th>max_drawdown</th>\n",
       "      <th>Final_Return</th>\n",
       "      <th>Total_Trades</th>\n",
       "      <th>Average_Trades_PL</th>\n",
       "    </tr>\n",
       "    <tr>\n",
       "      <th>ma_short</th>\n",
       "      <th>ma_long</th>\n",
       "      <th></th>\n",
       "      <th></th>\n",
       "      <th></th>\n",
       "      <th></th>\n",
       "      <th></th>\n",
       "      <th></th>\n",
       "      <th></th>\n",
       "    </tr>\n",
       "  </thead>\n",
       "  <tbody>\n",
       "    <tr>\n",
       "      <th rowspan=\"2\" valign=\"top\">5</th>\n",
       "      <th>27</th>\n",
       "      <td>0.03</td>\n",
       "      <td>0.007407</td>\n",
       "      <td>0.010744</td>\n",
       "      <td>0.220947</td>\n",
       "      <td>0.295698</td>\n",
       "      <td>738</td>\n",
       "      <td>0.000033</td>\n",
       "    </tr>\n",
       "    <tr>\n",
       "      <th>25</th>\n",
       "      <td>0.03</td>\n",
       "      <td>0.006253</td>\n",
       "      <td>0.009065</td>\n",
       "      <td>0.236733</td>\n",
       "      <td>0.231064</td>\n",
       "      <td>776</td>\n",
       "      <td>0.000024</td>\n",
       "    </tr>\n",
       "    <tr>\n",
       "      <th>6</th>\n",
       "      <th>25</th>\n",
       "      <td>0.03</td>\n",
       "      <td>0.003298</td>\n",
       "      <td>0.004795</td>\n",
       "      <td>0.237926</td>\n",
       "      <td>0.081803</td>\n",
       "      <td>744</td>\n",
       "      <td>0.000013</td>\n",
       "    </tr>\n",
       "    <tr>\n",
       "      <th>10</th>\n",
       "      <th>25</th>\n",
       "      <td>0.03</td>\n",
       "      <td>0.003918</td>\n",
       "      <td>0.005624</td>\n",
       "      <td>0.238225</td>\n",
       "      <td>0.114713</td>\n",
       "      <td>653</td>\n",
       "      <td>0.000008</td>\n",
       "    </tr>\n",
       "    <tr>\n",
       "      <th>5</th>\n",
       "      <th>29</th>\n",
       "      <td>0.03</td>\n",
       "      <td>0.006369</td>\n",
       "      <td>0.009229</td>\n",
       "      <td>0.245154</td>\n",
       "      <td>0.241214</td>\n",
       "      <td>706</td>\n",
       "      <td>0.000027</td>\n",
       "    </tr>\n",
       "    <tr>\n",
       "      <th>7</th>\n",
       "      <th>25</th>\n",
       "      <td>0.03</td>\n",
       "      <td>0.000407</td>\n",
       "      <td>0.000584</td>\n",
       "      <td>0.247894</td>\n",
       "      <td>-0.050362</td>\n",
       "      <td>694</td>\n",
       "      <td>0.000003</td>\n",
       "    </tr>\n",
       "    <tr>\n",
       "      <th>10</th>\n",
       "      <th>27</th>\n",
       "      <td>0.03</td>\n",
       "      <td>0.002849</td>\n",
       "      <td>0.004050</td>\n",
       "      <td>0.253531</td>\n",
       "      <td>0.055713</td>\n",
       "      <td>619</td>\n",
       "      <td>0.000017</td>\n",
       "    </tr>\n",
       "    <tr>\n",
       "      <th rowspan=\"3\" valign=\"top\">5</th>\n",
       "      <th>32</th>\n",
       "      <td>0.03</td>\n",
       "      <td>0.004403</td>\n",
       "      <td>0.006316</td>\n",
       "      <td>0.253770</td>\n",
       "      <td>0.137412</td>\n",
       "      <td>663</td>\n",
       "      <td>0.000016</td>\n",
       "    </tr>\n",
       "    <tr>\n",
       "      <th>28</th>\n",
       "      <td>0.03</td>\n",
       "      <td>0.005293</td>\n",
       "      <td>0.007665</td>\n",
       "      <td>0.253864</td>\n",
       "      <td>0.185019</td>\n",
       "      <td>726</td>\n",
       "      <td>0.000022</td>\n",
       "    </tr>\n",
       "    <tr>\n",
       "      <th>26</th>\n",
       "      <td>0.03</td>\n",
       "      <td>0.005467</td>\n",
       "      <td>0.007861</td>\n",
       "      <td>0.256381</td>\n",
       "      <td>0.187115</td>\n",
       "      <td>756</td>\n",
       "      <td>0.000020</td>\n",
       "    </tr>\n",
       "  </tbody>\n",
       "</table>\n",
       "</div>"
      ],
      "text/plain": [
       "                  stoploss  sharpe_ratio  sortino_ratio  max_drawdown  \\\n",
       "ma_short ma_long                                                        \n",
       "5        27           0.03      0.007407       0.010744      0.220947   \n",
       "         25           0.03      0.006253       0.009065      0.236733   \n",
       "6        25           0.03      0.003298       0.004795      0.237926   \n",
       "10       25           0.03      0.003918       0.005624      0.238225   \n",
       "5        29           0.03      0.006369       0.009229      0.245154   \n",
       "7        25           0.03      0.000407       0.000584      0.247894   \n",
       "10       27           0.03      0.002849       0.004050      0.253531   \n",
       "5        32           0.03      0.004403       0.006316      0.253770   \n",
       "         28           0.03      0.005293       0.007665      0.253864   \n",
       "         26           0.03      0.005467       0.007861      0.256381   \n",
       "\n",
       "                  Final_Return  Total_Trades  Average_Trades_PL  \n",
       "ma_short ma_long                                                 \n",
       "5        27           0.295698           738           0.000033  \n",
       "         25           0.231064           776           0.000024  \n",
       "6        25           0.081803           744           0.000013  \n",
       "10       25           0.114713           653           0.000008  \n",
       "5        29           0.241214           706           0.000027  \n",
       "7        25          -0.050362           694           0.000003  \n",
       "10       27           0.055713           619           0.000017  \n",
       "5        32           0.137412           663           0.000016  \n",
       "         28           0.185019           726           0.000022  \n",
       "         26           0.187115           756           0.000020  "
      ]
     },
     "execution_count": 50,
     "metadata": {},
     "output_type": "execute_result"
    }
   ],
   "source": [
    "df_by_maxdd=df_metrics.groupby([\"ma_short\",\"ma_long\"]).median().sort_values(\"max_drawdown\").head(10)\n",
    "df_by_maxdd"
   ]
  },
  {
   "cell_type": "code",
   "execution_count": 51,
   "metadata": {},
   "outputs": [
    {
     "data": {
      "text/plain": [
       "{(5, 25), (5, 26), (5, 27), (5, 28), (5, 29), (5, 32), (10, 25)}"
      ]
     },
     "execution_count": 51,
     "metadata": {},
     "output_type": "execute_result"
    }
   ],
   "source": [
    "selected_set=set(df_by_sharpe.index) & set(df_by_sortino.index) & set(df_by_maxdd.index)\n",
    "selected_set"
   ]
  },
  {
   "cell_type": "code",
   "execution_count": 52,
   "metadata": {
    "scrolled": true
   },
   "outputs": [
    {
     "data": {
      "text/html": [
       "<div>\n",
       "<style scoped>\n",
       "    .dataframe tbody tr th:only-of-type {\n",
       "        vertical-align: middle;\n",
       "    }\n",
       "\n",
       "    .dataframe tbody tr th {\n",
       "        vertical-align: top;\n",
       "    }\n",
       "\n",
       "    .dataframe thead th {\n",
       "        text-align: right;\n",
       "    }\n",
       "</style>\n",
       "<table border=\"1\" class=\"dataframe\">\n",
       "  <thead>\n",
       "    <tr style=\"text-align: right;\">\n",
       "      <th></th>\n",
       "      <th>ma_short</th>\n",
       "      <th>ma_long</th>\n",
       "      <th>stoploss</th>\n",
       "      <th>sharpe_ratio</th>\n",
       "      <th>sortino_ratio</th>\n",
       "      <th>max_drawdown</th>\n",
       "      <th>Final_Return</th>\n",
       "      <th>Total_Trades</th>\n",
       "      <th>Average_Trades_PL</th>\n",
       "    </tr>\n",
       "    <tr>\n",
       "      <th>strategy_name</th>\n",
       "      <th></th>\n",
       "      <th></th>\n",
       "      <th></th>\n",
       "      <th></th>\n",
       "      <th></th>\n",
       "      <th></th>\n",
       "      <th></th>\n",
       "      <th></th>\n",
       "      <th></th>\n",
       "    </tr>\n",
       "  </thead>\n",
       "  <tbody>\n",
       "    <tr>\n",
       "      <th>5_27_0.005</th>\n",
       "      <td>5</td>\n",
       "      <td>27</td>\n",
       "      <td>0.005</td>\n",
       "      <td>0.026080</td>\n",
       "      <td>0.038846</td>\n",
       "      <td>0.081306</td>\n",
       "      <td>1.256488</td>\n",
       "      <td>991</td>\n",
       "      <td>0.000109</td>\n",
       "    </tr>\n",
       "    <tr>\n",
       "      <th>5_28_0.005</th>\n",
       "      <td>5</td>\n",
       "      <td>28</td>\n",
       "      <td>0.005</td>\n",
       "      <td>0.022360</td>\n",
       "      <td>0.033262</td>\n",
       "      <td>0.092306</td>\n",
       "      <td>1.083445</td>\n",
       "      <td>991</td>\n",
       "      <td>0.000098</td>\n",
       "    </tr>\n",
       "    <tr>\n",
       "      <th>5_26_0.005</th>\n",
       "      <td>5</td>\n",
       "      <td>26</td>\n",
       "      <td>0.005</td>\n",
       "      <td>0.022138</td>\n",
       "      <td>0.032912</td>\n",
       "      <td>0.097288</td>\n",
       "      <td>1.040913</td>\n",
       "      <td>1031</td>\n",
       "      <td>0.000089</td>\n",
       "    </tr>\n",
       "    <tr>\n",
       "      <th>5_25_0.005</th>\n",
       "      <td>5</td>\n",
       "      <td>25</td>\n",
       "      <td>0.005</td>\n",
       "      <td>0.022801</td>\n",
       "      <td>0.033931</td>\n",
       "      <td>0.091947</td>\n",
       "      <td>1.046471</td>\n",
       "      <td>1065</td>\n",
       "      <td>0.000088</td>\n",
       "    </tr>\n",
       "    <tr>\n",
       "      <th>5_27_0.01</th>\n",
       "      <td>5</td>\n",
       "      <td>27</td>\n",
       "      <td>0.010</td>\n",
       "      <td>0.013192</td>\n",
       "      <td>0.019128</td>\n",
       "      <td>0.162186</td>\n",
       "      <td>0.660277</td>\n",
       "      <td>863</td>\n",
       "      <td>0.000065</td>\n",
       "    </tr>\n",
       "    <tr>\n",
       "      <th>5_27_0.02</th>\n",
       "      <td>5</td>\n",
       "      <td>27</td>\n",
       "      <td>0.020</td>\n",
       "      <td>0.012264</td>\n",
       "      <td>0.017794</td>\n",
       "      <td>0.214238</td>\n",
       "      <td>0.581388</td>\n",
       "      <td>755</td>\n",
       "      <td>0.000060</td>\n",
       "    </tr>\n",
       "    <tr>\n",
       "      <th>5_26_0.01</th>\n",
       "      <td>5</td>\n",
       "      <td>26</td>\n",
       "      <td>0.010</td>\n",
       "      <td>0.012121</td>\n",
       "      <td>0.017559</td>\n",
       "      <td>0.207840</td>\n",
       "      <td>0.604924</td>\n",
       "      <td>885</td>\n",
       "      <td>0.000057</td>\n",
       "    </tr>\n",
       "    <tr>\n",
       "      <th>5_28_0.02</th>\n",
       "      <td>5</td>\n",
       "      <td>28</td>\n",
       "      <td>0.020</td>\n",
       "      <td>0.010647</td>\n",
       "      <td>0.015361</td>\n",
       "      <td>0.207225</td>\n",
       "      <td>0.502199</td>\n",
       "      <td>739</td>\n",
       "      <td>0.000056</td>\n",
       "    </tr>\n",
       "    <tr>\n",
       "      <th>5_25_0.01</th>\n",
       "      <td>5</td>\n",
       "      <td>25</td>\n",
       "      <td>0.010</td>\n",
       "      <td>0.012218</td>\n",
       "      <td>0.017792</td>\n",
       "      <td>0.160273</td>\n",
       "      <td>0.551697</td>\n",
       "      <td>905</td>\n",
       "      <td>0.000049</td>\n",
       "    </tr>\n",
       "    <tr>\n",
       "      <th>5_28_0.01</th>\n",
       "      <td>5</td>\n",
       "      <td>28</td>\n",
       "      <td>0.010</td>\n",
       "      <td>0.008562</td>\n",
       "      <td>0.012361</td>\n",
       "      <td>0.222398</td>\n",
       "      <td>0.391807</td>\n",
       "      <td>855</td>\n",
       "      <td>0.000046</td>\n",
       "    </tr>\n",
       "    <tr>\n",
       "      <th>5_25_0.02</th>\n",
       "      <td>5</td>\n",
       "      <td>25</td>\n",
       "      <td>0.020</td>\n",
       "      <td>0.010294</td>\n",
       "      <td>0.014847</td>\n",
       "      <td>0.192186</td>\n",
       "      <td>0.444551</td>\n",
       "      <td>791</td>\n",
       "      <td>0.000044</td>\n",
       "    </tr>\n",
       "    <tr>\n",
       "      <th>5_27_0.04</th>\n",
       "      <td>5</td>\n",
       "      <td>27</td>\n",
       "      <td>0.040</td>\n",
       "      <td>0.007407</td>\n",
       "      <td>0.010744</td>\n",
       "      <td>0.220947</td>\n",
       "      <td>0.295698</td>\n",
       "      <td>731</td>\n",
       "      <td>0.000033</td>\n",
       "    </tr>\n",
       "    <tr>\n",
       "      <th>5_26_0.04</th>\n",
       "      <td>5</td>\n",
       "      <td>26</td>\n",
       "      <td>0.040</td>\n",
       "      <td>0.006540</td>\n",
       "      <td>0.009464</td>\n",
       "      <td>0.256381</td>\n",
       "      <td>0.250746</td>\n",
       "      <td>749</td>\n",
       "      <td>0.000028</td>\n",
       "    </tr>\n",
       "    <tr>\n",
       "      <th>5_25_0.04</th>\n",
       "      <td>5</td>\n",
       "      <td>25</td>\n",
       "      <td>0.040</td>\n",
       "      <td>0.006253</td>\n",
       "      <td>0.009065</td>\n",
       "      <td>0.236733</td>\n",
       "      <td>0.231064</td>\n",
       "      <td>769</td>\n",
       "      <td>0.000024</td>\n",
       "    </tr>\n",
       "    <tr>\n",
       "      <th>5_27_0.05</th>\n",
       "      <td>5</td>\n",
       "      <td>27</td>\n",
       "      <td>0.050</td>\n",
       "      <td>0.004873</td>\n",
       "      <td>0.007095</td>\n",
       "      <td>0.281384</td>\n",
       "      <td>0.159568</td>\n",
       "      <td>729</td>\n",
       "      <td>0.000023</td>\n",
       "    </tr>\n",
       "    <tr>\n",
       "      <th>5_27_1</th>\n",
       "      <td>5</td>\n",
       "      <td>27</td>\n",
       "      <td>1.000</td>\n",
       "      <td>0.004873</td>\n",
       "      <td>0.007095</td>\n",
       "      <td>0.281384</td>\n",
       "      <td>0.159568</td>\n",
       "      <td>729</td>\n",
       "      <td>0.000023</td>\n",
       "    </tr>\n",
       "    <tr>\n",
       "      <th>5_28_0.04</th>\n",
       "      <td>5</td>\n",
       "      <td>28</td>\n",
       "      <td>0.040</td>\n",
       "      <td>0.005293</td>\n",
       "      <td>0.007665</td>\n",
       "      <td>0.253864</td>\n",
       "      <td>0.185019</td>\n",
       "      <td>719</td>\n",
       "      <td>0.000022</td>\n",
       "    </tr>\n",
       "    <tr>\n",
       "      <th>5_26_0.02</th>\n",
       "      <td>5</td>\n",
       "      <td>26</td>\n",
       "      <td>0.020</td>\n",
       "      <td>0.005467</td>\n",
       "      <td>0.007861</td>\n",
       "      <td>0.222434</td>\n",
       "      <td>0.187115</td>\n",
       "      <td>772</td>\n",
       "      <td>0.000020</td>\n",
       "    </tr>\n",
       "    <tr>\n",
       "      <th>5_26_1</th>\n",
       "      <td>5</td>\n",
       "      <td>26</td>\n",
       "      <td>1.000</td>\n",
       "      <td>0.003897</td>\n",
       "      <td>0.005661</td>\n",
       "      <td>0.313612</td>\n",
       "      <td>0.111683</td>\n",
       "      <td>747</td>\n",
       "      <td>0.000018</td>\n",
       "    </tr>\n",
       "    <tr>\n",
       "      <th>5_26_0.05</th>\n",
       "      <td>5</td>\n",
       "      <td>26</td>\n",
       "      <td>0.050</td>\n",
       "      <td>0.003897</td>\n",
       "      <td>0.005661</td>\n",
       "      <td>0.313612</td>\n",
       "      <td>0.111683</td>\n",
       "      <td>747</td>\n",
       "      <td>0.000018</td>\n",
       "    </tr>\n",
       "    <tr>\n",
       "      <th>5_25_0.05</th>\n",
       "      <td>5</td>\n",
       "      <td>25</td>\n",
       "      <td>0.050</td>\n",
       "      <td>0.003510</td>\n",
       "      <td>0.005108</td>\n",
       "      <td>0.304189</td>\n",
       "      <td>0.092000</td>\n",
       "      <td>767</td>\n",
       "      <td>0.000014</td>\n",
       "    </tr>\n",
       "    <tr>\n",
       "      <th>5_25_1</th>\n",
       "      <td>5</td>\n",
       "      <td>25</td>\n",
       "      <td>1.000</td>\n",
       "      <td>0.003510</td>\n",
       "      <td>0.005108</td>\n",
       "      <td>0.304189</td>\n",
       "      <td>0.092000</td>\n",
       "      <td>767</td>\n",
       "      <td>0.000014</td>\n",
       "    </tr>\n",
       "    <tr>\n",
       "      <th>5_28_0.05</th>\n",
       "      <td>5</td>\n",
       "      <td>28</td>\n",
       "      <td>0.050</td>\n",
       "      <td>0.002631</td>\n",
       "      <td>0.003823</td>\n",
       "      <td>0.374793</td>\n",
       "      <td>0.048890</td>\n",
       "      <td>717</td>\n",
       "      <td>0.000011</td>\n",
       "    </tr>\n",
       "    <tr>\n",
       "      <th>5_28_1</th>\n",
       "      <td>5</td>\n",
       "      <td>28</td>\n",
       "      <td>1.000</td>\n",
       "      <td>0.002631</td>\n",
       "      <td>0.003823</td>\n",
       "      <td>0.374793</td>\n",
       "      <td>0.048890</td>\n",
       "      <td>717</td>\n",
       "      <td>0.000011</td>\n",
       "    </tr>\n",
       "    <tr>\n",
       "      <th>5_27_0.03</th>\n",
       "      <td>5</td>\n",
       "      <td>27</td>\n",
       "      <td>0.030</td>\n",
       "      <td>0.003109</td>\n",
       "      <td>0.004377</td>\n",
       "      <td>0.275137</td>\n",
       "      <td>0.072622</td>\n",
       "      <td>738</td>\n",
       "      <td>0.000010</td>\n",
       "    </tr>\n",
       "    <tr>\n",
       "      <th>5_25_0.03</th>\n",
       "      <td>5</td>\n",
       "      <td>25</td>\n",
       "      <td>0.030</td>\n",
       "      <td>0.002494</td>\n",
       "      <td>0.003512</td>\n",
       "      <td>0.279271</td>\n",
       "      <td>0.043530</td>\n",
       "      <td>776</td>\n",
       "      <td>0.000007</td>\n",
       "    </tr>\n",
       "    <tr>\n",
       "      <th>5_26_0.03</th>\n",
       "      <td>5</td>\n",
       "      <td>26</td>\n",
       "      <td>0.030</td>\n",
       "      <td>0.001978</td>\n",
       "      <td>0.002778</td>\n",
       "      <td>0.305350</td>\n",
       "      <td>0.018395</td>\n",
       "      <td>756</td>\n",
       "      <td>0.000005</td>\n",
       "    </tr>\n",
       "    <tr>\n",
       "      <th>5_28_0.03</th>\n",
       "      <td>5</td>\n",
       "      <td>28</td>\n",
       "      <td>0.030</td>\n",
       "      <td>-0.004165</td>\n",
       "      <td>-0.005866</td>\n",
       "      <td>0.359465</td>\n",
       "      <td>-0.245618</td>\n",
       "      <td>726</td>\n",
       "      <td>-0.000019</td>\n",
       "    </tr>\n",
       "  </tbody>\n",
       "</table>\n",
       "</div>"
      ],
      "text/plain": [
       "               ma_short  ma_long  stoploss  sharpe_ratio  sortino_ratio  \\\n",
       "strategy_name                                                             \n",
       "5_27_0.005            5       27     0.005      0.026080       0.038846   \n",
       "5_28_0.005            5       28     0.005      0.022360       0.033262   \n",
       "5_26_0.005            5       26     0.005      0.022138       0.032912   \n",
       "5_25_0.005            5       25     0.005      0.022801       0.033931   \n",
       "5_27_0.01             5       27     0.010      0.013192       0.019128   \n",
       "5_27_0.02             5       27     0.020      0.012264       0.017794   \n",
       "5_26_0.01             5       26     0.010      0.012121       0.017559   \n",
       "5_28_0.02             5       28     0.020      0.010647       0.015361   \n",
       "5_25_0.01             5       25     0.010      0.012218       0.017792   \n",
       "5_28_0.01             5       28     0.010      0.008562       0.012361   \n",
       "5_25_0.02             5       25     0.020      0.010294       0.014847   \n",
       "5_27_0.04             5       27     0.040      0.007407       0.010744   \n",
       "5_26_0.04             5       26     0.040      0.006540       0.009464   \n",
       "5_25_0.04             5       25     0.040      0.006253       0.009065   \n",
       "5_27_0.05             5       27     0.050      0.004873       0.007095   \n",
       "5_27_1                5       27     1.000      0.004873       0.007095   \n",
       "5_28_0.04             5       28     0.040      0.005293       0.007665   \n",
       "5_26_0.02             5       26     0.020      0.005467       0.007861   \n",
       "5_26_1                5       26     1.000      0.003897       0.005661   \n",
       "5_26_0.05             5       26     0.050      0.003897       0.005661   \n",
       "5_25_0.05             5       25     0.050      0.003510       0.005108   \n",
       "5_25_1                5       25     1.000      0.003510       0.005108   \n",
       "5_28_0.05             5       28     0.050      0.002631       0.003823   \n",
       "5_28_1                5       28     1.000      0.002631       0.003823   \n",
       "5_27_0.03             5       27     0.030      0.003109       0.004377   \n",
       "5_25_0.03             5       25     0.030      0.002494       0.003512   \n",
       "5_26_0.03             5       26     0.030      0.001978       0.002778   \n",
       "5_28_0.03             5       28     0.030     -0.004165      -0.005866   \n",
       "\n",
       "               max_drawdown  Final_Return  Total_Trades  Average_Trades_PL  \n",
       "strategy_name                                                               \n",
       "5_27_0.005         0.081306      1.256488           991           0.000109  \n",
       "5_28_0.005         0.092306      1.083445           991           0.000098  \n",
       "5_26_0.005         0.097288      1.040913          1031           0.000089  \n",
       "5_25_0.005         0.091947      1.046471          1065           0.000088  \n",
       "5_27_0.01          0.162186      0.660277           863           0.000065  \n",
       "5_27_0.02          0.214238      0.581388           755           0.000060  \n",
       "5_26_0.01          0.207840      0.604924           885           0.000057  \n",
       "5_28_0.02          0.207225      0.502199           739           0.000056  \n",
       "5_25_0.01          0.160273      0.551697           905           0.000049  \n",
       "5_28_0.01          0.222398      0.391807           855           0.000046  \n",
       "5_25_0.02          0.192186      0.444551           791           0.000044  \n",
       "5_27_0.04          0.220947      0.295698           731           0.000033  \n",
       "5_26_0.04          0.256381      0.250746           749           0.000028  \n",
       "5_25_0.04          0.236733      0.231064           769           0.000024  \n",
       "5_27_0.05          0.281384      0.159568           729           0.000023  \n",
       "5_27_1             0.281384      0.159568           729           0.000023  \n",
       "5_28_0.04          0.253864      0.185019           719           0.000022  \n",
       "5_26_0.02          0.222434      0.187115           772           0.000020  \n",
       "5_26_1             0.313612      0.111683           747           0.000018  \n",
       "5_26_0.05          0.313612      0.111683           747           0.000018  \n",
       "5_25_0.05          0.304189      0.092000           767           0.000014  \n",
       "5_25_1             0.304189      0.092000           767           0.000014  \n",
       "5_28_0.05          0.374793      0.048890           717           0.000011  \n",
       "5_28_1             0.374793      0.048890           717           0.000011  \n",
       "5_27_0.03          0.275137      0.072622           738           0.000010  \n",
       "5_25_0.03          0.279271      0.043530           776           0.000007  \n",
       "5_26_0.03          0.305350      0.018395           756           0.000005  \n",
       "5_28_0.03          0.359465     -0.245618           726          -0.000019  "
      ]
     },
     "execution_count": 52,
     "metadata": {},
     "output_type": "execute_result"
    }
   ],
   "source": [
    "df_metrics[(df_metrics.ma_short==5) & ((df_metrics.ma_long<=28) & (df_metrics.ma_long>=25))].sort_values([\"Average_Trades_PL\"], ascending=False)"
   ]
  },
  {
   "cell_type": "code",
   "execution_count": 53,
   "metadata": {
    "scrolled": true
   },
   "outputs": [
    {
     "data": {
      "image/png": "[encoded data removed]",
      "text/plain": [
       "<Figure size 432x288 with 1 Axes>"
      ]
     },
     "metadata": {
      "needs_background": "light"
     },
     "output_type": "display_data"
    }
   ],
   "source": [
    "#all_strategy_test([5],[27],[0.005,0.01,0.02,0.03,0.04,0.05],True) # To add more tests for the optimized set\n",
    "chart_strategy_results([5],[27],stoploss_range,True) # Test"
   ]
  },
  {
   "cell_type": "code",
   "execution_count": 54,
   "metadata": {},
   "outputs": [
    {
     "data": {
      "image/png": "[encoded data removed]",
      "text/plain": [
       "<Figure size 432x288 with 1 Axes>"
      ]
     },
     "metadata": {
      "needs_background": "light"
     },
     "output_type": "display_data"
    }
   ],
   "source": [
    "chart_strategy_results([6],[27],stoploss_range,True) # Test"
   ]
  },
  {
   "cell_type": "code",
   "execution_count": null,
   "metadata": {},
   "outputs": [],
   "source": []
  },
  {
   "cell_type": "markdown",
   "metadata": {},
   "source": [
    "## Finally, we choose (5,27,0.5%) as the optimized set."
   ]
  }
 ],
 "metadata": {
  "kernelspec": {
   "display_name": "Python 3",
   "language": "python",
   "name": "python3"
  },
  "language_info": {
   "codemirror_mode": {
    "name": "ipython",
    "version": 3
   },
   "file_extension": ".py",
   "mimetype": "text/x-python",
   "name": "python",
   "nbconvert_exporter": "python",
   "pygments_lexer": "ipython3",
   "version": "3.6.7"
  },
  "varInspector": {
   "cols": {
    "lenName": 16,
    "lenType": 16,
    "lenVar": 40
   },
   "kernels_config": {
    "python": {
     "delete_cmd_postfix": "",
     "delete_cmd_prefix": "del ",
     "library": "var_list.py",
     "varRefreshCmd": "print(var_dic_list())"
    },
    "r": {
     "delete_cmd_postfix": ") ",
     "delete_cmd_prefix": "rm(",
     "library": "var_list.r",
     "varRefreshCmd": "cat(var_dic_list()) "
    }
   },
   "types_to_exclude": [
    "module",
    "function",
    "builtin_function_or_method",
    "instance",
    "_Feature"
   ],
   "window_display": false
  }
 },
 "nbformat": 4,
 "nbformat_minor": 2
}
